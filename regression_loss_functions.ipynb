{
  "nbformat": 4,
  "nbformat_minor": 0,
  "metadata": {
    "colab": {
      "provenance": [],
      "authorship_tag": "ABX9TyN/w/HIhvq3uNazJxCAZNVp",
      "include_colab_link": true
    },
    "kernelspec": {
      "name": "python3",
      "display_name": "Python 3"
    },
    "language_info": {
      "name": "python"
    }
  },
  "cells": [
    {
      "cell_type": "markdown",
      "metadata": {
        "id": "view-in-github",
        "colab_type": "text"
      },
      "source": [
        "<a href=\"https://colab.research.google.com/github/q4quang/AIO-2024/blob/feature/regression_loss_functions.ipynb\" target=\"_parent\"><img src=\"https://colab.research.google.com/assets/colab-badge.svg\" alt=\"Open In Colab\"/></a>"
      ]
    },
    {
      "cell_type": "code",
      "execution_count": 3,
      "metadata": {
        "colab": {
          "base_uri": "https://localhost:8080/"
        },
        "id": "cMDHyJ7RWGmI",
        "outputId": "ecc07cd1-27a0-456d-e083-485af0cf7ccc"
      },
      "outputs": [
        {
          "output_type": "stream",
          "name": "stdout",
          "text": [
            "Input number of samples (must be an integer number): \n",
            "5\n",
            "Input loss name: \n",
            "RMSE\n",
            "loss name: RMSE, sample: 0, pred: 1.3576673469398248, target: 7.735792525232583, loss: 40.68048078997203\n",
            "loss name: RMSE, sample: 1, pred: 3.481943069027613, target: 7.625593945745721, loss: 17.169842588126745\n",
            "loss name: RMSE, sample: 2, pred: 6.493184275714573, target: 1.3740242808001901, loss: 26.20579905353183\n",
            "loss name: RMSE, sample: 3, pred: 1.5051565826006241, target: 9.830447072788774, loss: 69.31046174601722\n",
            "loss name: RMSE, sample: 4, pred: 3.6731023551887443, target: 8.272470690052504, loss: 21.154189079747436\n",
            "final RMSE: 5.907973819464593\n"
          ]
        }
      ],
      "source": [
        "# MAE, MSE, RMSE loss functions\n",
        "import random\n",
        "import math\n",
        "def MAE(y_target, y_predict):\n",
        "    return abs(y_target - y_predict)\n",
        "def MSE(y_target, y_predict):\n",
        "    return (y_target - y_predict)**2\n",
        "\n",
        "print(\"Input number of samples (must be an integer number): \")\n",
        "num_samples = input()\n",
        "if num_samples.isnumeric() == False:\n",
        "    print(\"Number of samples must be an integer number\")\n",
        "else:\n",
        "    predict_list = []\n",
        "    target_list = []\n",
        "    loss_list = []\n",
        "    loss_name_list = [\"RMSE\", \"MSE\", \"MAE\"]\n",
        "    print(\"Input loss name: \")\n",
        "    loss_name = input()\n",
        "    if loss_name not in loss_name_list:\n",
        "        print(f'{loss_name} is not supported')\n",
        "    else:\n",
        "        for i in range(0, int(num_samples)):\n",
        "            predict = random.uniform(0,10)\n",
        "            target = random.uniform(0,10)\n",
        "            if loss_name == \"RMSE\" or loss_name ==\"MSE\":\n",
        "                loss = MSE(target, predict)\n",
        "            if loss_name == \"MAE\":\n",
        "                loss = MAE(target, predict)\n",
        "            print(f\"loss name: {loss_name}, sample: {i}, pred: {predict}, target: {target}, loss: {loss}\")\n",
        "            loss_list.append(loss)\n",
        "        final_loss = sum(loss_list)/int(num_samples)\n",
        "        if loss_name == 'RMSE':\n",
        "            final_loss = math.sqrt(final_loss)\n",
        "        print(f\"final {loss_name}: {final_loss}\")\n",
        "\n",
        ""
      ]
    }
  ]
}