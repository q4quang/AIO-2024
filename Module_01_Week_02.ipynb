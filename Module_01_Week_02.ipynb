{
  "nbformat": 4,
  "nbformat_minor": 0,
  "metadata": {
    "colab": {
      "provenance": [],
      "authorship_tag": "ABX9TyMQraUdwYKDHPgByD7VBwj4",
      "include_colab_link": true
    },
    "kernelspec": {
      "name": "python3",
      "display_name": "Python 3"
    },
    "language_info": {
      "name": "python"
    }
  },
  "cells": [
    {
      "cell_type": "markdown",
      "metadata": {
        "id": "view-in-github",
        "colab_type": "text"
      },
      "source": [
        "<a href=\"https://colab.research.google.com/github/q4quang/AIO-2024/blob/feature/Module_01_Week_02.ipynb\" target=\"_parent\"><img src=\"https://colab.research.google.com/assets/colab-badge.svg\" alt=\"Open In Colab\"/></a>"
      ]
    },
    {
      "cell_type": "markdown",
      "source": [
        "**I. Câu hỏi tự luận**"
      ],
      "metadata": {
        "id": "53yK6NQd_nje"
      }
    },
    {
      "cell_type": "markdown",
      "source": [
        "**Câu 1**"
      ],
      "metadata": {
        "id": "_dTL-UYcyEky"
      }
    },
    {
      "cell_type": "code",
      "execution_count": 3,
      "metadata": {
        "colab": {
          "base_uri": "https://localhost:8080/"
        },
        "id": "83UQL7eXuH9F",
        "outputId": "1497bd04-d5fb-4165-894e-e86ffd5c19e0"
      },
      "outputs": [
        {
          "output_type": "stream",
          "name": "stdout",
          "text": [
            "[5, 5, 5, 5, 10, 12, 33, 33]\n"
          ]
        }
      ],
      "source": [
        "def max_kernel(num_list, k) :\n",
        "    result = []\n",
        "    for i in range(len(num_list) - k + 1):\n",
        "        max_element = max(num_list[i:i+k])\n",
        "        result.append(max_element)\n",
        "    return result\n",
        "\n",
        "assert max_kernel ([3 , 4 , 5 , 1 , -44] , 3) == [5 , 5 , 5]\n",
        "num_list = [3 , 4 , 5 , 1 , -44 , 5 ,10 , 12 ,33 , 1]\n",
        "k = 3\n",
        "print (max_kernel(num_list , k))"
      ]
    },
    {
      "cell_type": "markdown",
      "source": [
        "**Câu 2**"
      ],
      "metadata": {
        "id": "NnSj4kXQyTup"
      }
    },
    {
      "cell_type": "code",
      "source": [
        "def character_count(word):\n",
        "    result = {}\n",
        "    for char in word:\n",
        "        if char in result:\n",
        "            result[char] += 1\n",
        "        else:\n",
        "            result[char] = 1\n",
        "\n",
        "    return result\n",
        "\n",
        "word = 'Happiness'\n",
        "print(character_count(word))\n",
        "word = 'smiles'\n",
        "print(character_count(word))"
      ],
      "metadata": {
        "colab": {
          "base_uri": "https://localhost:8080/"
        },
        "id": "sE7oa47dyI0O",
        "outputId": "686a9c52-05f7-4d82-bb29-6d10f9f41da9"
      },
      "execution_count": 9,
      "outputs": [
        {
          "output_type": "stream",
          "name": "stdout",
          "text": [
            "{'H': 1, 'a': 1, 'p': 2, 'i': 1, 'n': 1, 'e': 1, 's': 2}\n",
            "{'s': 2, 'm': 1, 'i': 1, 'l': 1, 'e': 1}\n"
          ]
        }
      ]
    },
    {
      "cell_type": "markdown",
      "source": [
        "**Câu 3**"
      ],
      "metadata": {
        "id": "QDAmuptUyy3A"
      }
    },
    {
      "cell_type": "code",
      "source": [
        "import gdown\n",
        "\n",
        "def count_word(path):\n",
        "    with open(path, 'r') as file:\n",
        "        content = file.read()\n",
        "        words = content.split()\n",
        "    word_list = {}\n",
        "    for word in words:\n",
        "        word = word.lower()\n",
        "        if word in word_list:\n",
        "            word_list[word] += 1\n",
        "        else:\n",
        "            word_list[word] = 1\n",
        "    file.close()\n",
        "    return word_list\n",
        "\n",
        "url = 'https://drive.google.com/uc?id=1IBScGdW2xlNsc9v5zSAya548kNgiOrko'\n",
        "output = 'P1_data.txt'\n",
        "\n",
        "gdown.download(url, output, quiet=False)\n",
        "result = count_word(output)\n",
        "print(result)"
      ],
      "metadata": {
        "colab": {
          "base_uri": "https://localhost:8080/"
        },
        "id": "TVJBxcfQy0Tc",
        "outputId": "a0632e03-e3ed-48d9-cfab-322fccb08598"
      },
      "execution_count": 5,
      "outputs": [
        {
          "output_type": "stream",
          "name": "stderr",
          "text": [
            "Downloading...\n",
            "From: https://drive.google.com/uc?id=1IBScGdW2xlNsc9v5zSAya548kNgiOrko\n",
            "To: /content/P1_data.txt\n",
            "100%|██████████| 747/747 [00:00<00:00, 1.66MB/s]"
          ]
        },
        {
          "output_type": "stream",
          "name": "stdout",
          "text": [
            "{'he': 1, 'who': 3, 'conquers': 1, 'himself': 1, 'is': 3, 'the': 5, 'mightiest': 1, 'warrior': 1, 'try': 2, 'not': 1, 'to': 3, 'become': 2, 'a': 7, 'man': 6, 'of': 4, 'success': 3, 'but': 1, 'rather': 1, 'value': 1, 'one': 4, 'with': 4, 'courage': 1, 'makes': 1, 'majority': 1, 'secret': 1, 'in': 4, 'life': 2, 'for': 3, 'be': 1, 'ready': 1, 'his': 2, 'opportunity': 1, 'when': 2, 'it': 2, 'comes': 2, 'successful': 2, 'will': 2, 'profit': 1, 'from': 1, 'mistakes': 1, 'and': 1, 'again': 1, 'different': 1, 'way': 1, 'can': 3, 'lay': 1, 'firm': 1, 'foundation': 1, 'bricks': 1, 'others': 1, 'have': 1, 'thrown': 1, 'at': 1, 'him': 1, 'usually': 1, 'those': 1, 'are': 1, 'too': 1, 'busy': 1, 'looking': 1, 'we': 3, 'cannot': 1, 'solve': 1, 'problems': 1, 'kind': 1, 'thinking': 1, 'employed': 1, 'came': 1, 'up': 1, 'them': 1, 'just': 2, 'small': 1, 'positive': 1, 'thought': 1, 'morning': 1, 'change': 1, 'your': 1, 'whole': 1, 'day': 1, 'you': 3, 'get': 2, 'everything': 1, 'want': 2, 'if': 1, 'help': 1, 'enough': 1, 'other': 1, 'people': 1, 'what': 1, 'they': 1}\n"
          ]
        },
        {
          "output_type": "stream",
          "name": "stderr",
          "text": [
            "\n"
          ]
        }
      ]
    },
    {
      "cell_type": "markdown",
      "source": [
        "**Câu 4**"
      ],
      "metadata": {
        "id": "7FScjdtT4yw9"
      }
    },
    {
      "cell_type": "code",
      "source": [
        "def levenshtein_distance(source, target):\n",
        "    source_len = len(source)\n",
        "    target_len = len(target)\n",
        "    source = \"#\" + source\n",
        "    target = \"#\" + target\n",
        "    # Create a matrix to store the distance\n",
        "    matrix = [[0 for _ in range(target_len + 1)]\n",
        "              for _ in range(source_len + 1)]\n",
        "    # Fill in the first row with insertions distance\n",
        "    for i in range(source_len + 1):\n",
        "        matrix[i][0] = i\n",
        "    # Fill in the first column with deletions distance\n",
        "    for i in range(target_len + 1):\n",
        "        matrix[0][i] = i\n",
        "    # Fill in the rest of the matrix, starting from the second row and second column\n",
        "    for i in range(1, source_len + 1):\n",
        "        for j in range(1, target_len + 1):\n",
        "            sub_cost = 1\n",
        "            if source[i] == target[j]:\n",
        "                sub_cost = 0\n",
        "            matrix[i][j] = min(matrix[i-1][j] + 1, # Deletion\n",
        "                               matrix[i][j - 1] + 1, # Insertion\n",
        "                               matrix[i-1][j - 1] + sub_cost) # Substitution\n",
        "    return matrix[source_len][target_len]\n",
        "\n",
        "source = \"yu\"\n",
        "target = \"you\"\n",
        "print(levenshtein_distance(source, target))"
      ],
      "metadata": {
        "colab": {
          "base_uri": "https://localhost:8080/"
        },
        "id": "GXj9_9_Q407p",
        "outputId": "73ddb585-c0b4-4344-bcb8-2a5e2f9e153c"
      },
      "execution_count": 7,
      "outputs": [
        {
          "output_type": "stream",
          "name": "stdout",
          "text": [
            "1\n"
          ]
        }
      ]
    },
    {
      "cell_type": "markdown",
      "source": [
        "**II. Câu hỏi trắc nghiệm**"
      ],
      "metadata": {
        "id": "IcxmT0VB_x1y"
      }
    },
    {
      "cell_type": "markdown",
      "source": [
        "**Câu 1**"
      ],
      "metadata": {
        "id": "C9JjL4Kj_41z"
      }
    },
    {
      "cell_type": "code",
      "source": [
        "assert max_kernel([3, 4, 5, 1, -44], 3) == [5, 5, 5]\n",
        "num_list = [3, 4, 5, 1, -44, 5, 10, 12, 33, 1]\n",
        "k = 3\n",
        "print(max_kernel(num_list, k))"
      ],
      "metadata": {
        "colab": {
          "base_uri": "https://localhost:8080/"
        },
        "id": "otRuZ6RP_3eG",
        "outputId": "599fb0cc-256e-4cb5-b085-72d6f0958be6"
      },
      "execution_count": 8,
      "outputs": [
        {
          "output_type": "stream",
          "name": "stdout",
          "text": [
            "[5, 5, 5, 5, 10, 12, 33, 33]\n"
          ]
        }
      ]
    },
    {
      "cell_type": "markdown",
      "source": [
        "**Câu 2**"
      ],
      "metadata": {
        "id": "8T9z6NodAMea"
      }
    },
    {
      "cell_type": "code",
      "source": [
        "assert character_count(\"Baby\") == {'B': 1, 'a': 1, 'b': 1, 'y': 1}\n",
        "print(character_count('smiles'))"
      ],
      "metadata": {
        "colab": {
          "base_uri": "https://localhost:8080/"
        },
        "id": "xKTCMiM-ARzo",
        "outputId": "a9e5232c-96d5-479d-c6b4-1e67dfded123"
      },
      "execution_count": 10,
      "outputs": [
        {
          "output_type": "stream",
          "name": "stdout",
          "text": [
            "{'s': 2, 'm': 1, 'i': 1, 'l': 1, 'e': 1}\n"
          ]
        }
      ]
    },
    {
      "cell_type": "markdown",
      "source": [
        "**Câu 3**"
      ],
      "metadata": {
        "id": "0cMtydr9Apyg"
      }
    },
    {
      "cell_type": "code",
      "source": [
        "import gdown\n",
        "\n",
        "def count_word(path):\n",
        "    with open(path, 'r') as file:\n",
        "        content = file.read()\n",
        "        words = content.split()\n",
        "    word_list = {}\n",
        "    for word in words:\n",
        "        word = word.lower()\n",
        "        if word in word_list:\n",
        "            word_list[word] += 1\n",
        "        else:\n",
        "            word_list[word] = 1\n",
        "    file.close()\n",
        "    return word_list\n",
        "\n",
        "url = 'https://drive.google.com/uc?id=1IBScGdW2xlNsc9v5zSAya548kNgiOrko'\n",
        "output = 'P1_data.txt'\n",
        "\n",
        "gdown.download(url, output, quiet=False)\n",
        "result = count_word(output)\n",
        "assert result['who'] == 3\n",
        "print(result['man'])"
      ],
      "metadata": {
        "colab": {
          "base_uri": "https://localhost:8080/"
        },
        "id": "kv35N5uzAvb_",
        "outputId": "75575383-9307-4541-c8b0-dfe68a2e9248"
      },
      "execution_count": 14,
      "outputs": [
        {
          "output_type": "stream",
          "name": "stderr",
          "text": [
            "Downloading...\n",
            "From: https://drive.google.com/uc?id=1IBScGdW2xlNsc9v5zSAya548kNgiOrko\n",
            "To: /content/P1_data.txt\n",
            "100%|██████████| 747/747 [00:00<00:00, 1.58MB/s]"
          ]
        },
        {
          "output_type": "stream",
          "name": "stdout",
          "text": [
            "6\n"
          ]
        },
        {
          "output_type": "stream",
          "name": "stderr",
          "text": [
            "\n"
          ]
        }
      ]
    },
    {
      "cell_type": "markdown",
      "source": [
        "**Câu 4**"
      ],
      "metadata": {
        "id": "3xa3FmNqCK04"
      }
    },
    {
      "cell_type": "code",
      "source": [
        "assert levenshtein_distance(\"hi\", \"hello\") == 4.0\n",
        "print(levenshtein_distance(\"hola\", \"hello\"))"
      ],
      "metadata": {
        "colab": {
          "base_uri": "https://localhost:8080/"
        },
        "id": "Bw9xEXG6CMA-",
        "outputId": "76ec7859-1482-44d7-e2ac-f316699cbe15"
      },
      "execution_count": 15,
      "outputs": [
        {
          "output_type": "stream",
          "name": "stdout",
          "text": [
            "3\n"
          ]
        }
      ]
    },
    {
      "cell_type": "markdown",
      "source": [
        "**Câu 5**"
      ],
      "metadata": {
        "id": "16GwjYzFChea"
      }
    },
    {
      "cell_type": "code",
      "source": [
        "def check_the_number(N):\n",
        "    list_of_numbers = []\n",
        "    result = \"\"\n",
        "    for i in range(1, 5):\n",
        "        # Your code here\n",
        "        # Su dung append them i vao trong list_of_number\n",
        "        list_of_numbers.append(i)\n",
        "    if N in list_of_numbers:\n",
        "        results = \" True \"\n",
        "    if N not in list_of_numbers:\n",
        "        results = \" False \"\n",
        "    return results\n",
        "\n",
        "\n",
        "N = 7\n",
        "assert check_the_number(N) == \" False \"\n",
        "N = 2\n",
        "results = check_the_number(N)\n",
        "print(results)"
      ],
      "metadata": {
        "colab": {
          "base_uri": "https://localhost:8080/"
        },
        "id": "yXJgl-00Cinv",
        "outputId": "9a7d9dc8-2229-4b58-c75e-28c54dc78172"
      },
      "execution_count": 16,
      "outputs": [
        {
          "output_type": "stream",
          "name": "stdout",
          "text": [
            " True \n"
          ]
        }
      ]
    },
    {
      "cell_type": "markdown",
      "source": [
        "**Câu 6**"
      ],
      "metadata": {
        "id": "TqNNoHnHC0rL"
      }
    },
    {
      "cell_type": "code",
      "source": [
        "def my_function(data, max, min):\n",
        "    result = []\n",
        "    for i in data:\n",
        "        # Your code here\n",
        "        # Neu i < min thi them min vao result\n",
        "        if i < min:\n",
        "            result.append(min)\n",
        "        elif i > max:\n",
        "            result.append(max)\n",
        "        else:\n",
        "            result.append(i)\n",
        "    return result\n",
        "\n",
        "\n",
        "my_list = [5, 2, 5, 0, 1]\n",
        "max = 1\n",
        "min = 0\n",
        "assert my_function(max=max, min=min, data=my_list) == [1, 1, 1, 0, 1]\n",
        "my_list = [10, 2, 5, 0, 1]\n",
        "max = 2\n",
        "min = 1\n",
        "print(my_function(max=max, min=min, data=my_list))"
      ],
      "metadata": {
        "colab": {
          "base_uri": "https://localhost:8080/"
        },
        "id": "I2NHUIuNC177",
        "outputId": "b2c97e54-1fac-48d2-9979-ca60c691f7f7"
      },
      "execution_count": 17,
      "outputs": [
        {
          "output_type": "stream",
          "name": "stdout",
          "text": [
            "[2, 2, 2, 1, 1]\n"
          ]
        }
      ]
    },
    {
      "cell_type": "markdown",
      "source": [
        "**Câu 7**"
      ],
      "metadata": {
        "id": "CBArjS3PDTKn"
      }
    },
    {
      "cell_type": "code",
      "source": [
        "def my_function(x, y):\n",
        "    # Su dung extend de noi y vao x\n",
        "    x.extend(y)\n",
        "    return x\n",
        "\n",
        "list_num1 = ['a', 2, 5]\n",
        "list_num2 = [1, 1]\n",
        "list_num3 = [0, 0]\n",
        "\n",
        "assert my_function(list_num1, my_function(list_num2, list_num3)) == [\n",
        "    'a', 2, 5, 1, 1, 0, 0]\n",
        "\n",
        "list_num1 = [1, 2]\n",
        "list_num2 = [3, 4]\n",
        "list_num3 = [0, 0]\n",
        "\n",
        "print(my_function(list_num1, my_function(list_num2, list_num3)))"
      ],
      "metadata": {
        "colab": {
          "base_uri": "https://localhost:8080/"
        },
        "id": "VwmLE3RNDUhH",
        "outputId": "c9e13512-2fb4-4d5e-8387-0cc246c4d823"
      },
      "execution_count": 18,
      "outputs": [
        {
          "output_type": "stream",
          "name": "stdout",
          "text": [
            "[1, 2, 3, 4, 0, 0]\n"
          ]
        }
      ]
    },
    {
      "cell_type": "markdown",
      "source": [
        "**Câu 8**"
      ],
      "metadata": {
        "id": "fz3uths-D6WK"
      }
    },
    {
      "cell_type": "code",
      "source": [
        "def my_function(n):\n",
        "    min_value = 1e9\n",
        "    for value in n:\n",
        "        if min_value > value: min_value = value\n",
        "    return min_value\n",
        "\n",
        "\n",
        "my_list = [1, 22, 93, -100]\n",
        "assert my_function(my_list) == -100\n",
        "\n",
        "my_list = [1, 2, 3, -1]\n",
        "print(my_function(my_list))"
      ],
      "metadata": {
        "colab": {
          "base_uri": "https://localhost:8080/"
        },
        "id": "IOmVegR3D79z",
        "outputId": "b41119cf-3b8c-47c1-bbd7-f435b628cb49"
      },
      "execution_count": 22,
      "outputs": [
        {
          "output_type": "stream",
          "name": "stdout",
          "text": [
            "-1\n"
          ]
        }
      ]
    },
    {
      "cell_type": "markdown",
      "source": [
        "**Câu 9**"
      ],
      "metadata": {
        "id": "SJWkdRqMExBw"
      }
    },
    {
      "cell_type": "code",
      "source": [
        "def my_function(n):\n",
        "    max_value = -1e9\n",
        "    for value in n:\n",
        "        if max_value < value: max_value = value\n",
        "    return max_value\n",
        "\n",
        "my_list = [1, 9, 9, 0]\n",
        "print(my_function(my_list))"
      ],
      "metadata": {
        "colab": {
          "base_uri": "https://localhost:8080/"
        },
        "id": "5m-xQPTgEyOf",
        "outputId": "3a3383c3-1afd-4590-eb6f-f4deb15ec964"
      },
      "execution_count": 23,
      "outputs": [
        {
          "output_type": "stream",
          "name": "stdout",
          "text": [
            "9\n"
          ]
        }
      ]
    },
    {
      "cell_type": "markdown",
      "source": [
        "**Câu 10**"
      ],
      "metadata": {
        "id": "sTFR4LcWFC3l"
      }
    },
    {
      "cell_type": "code",
      "source": [
        "def my_function(integers, number=1):\n",
        "    return any(item == number for item in integers)\n",
        "\n",
        "my_list = [1, 3, 9, 4]\n",
        "assert my_function(my_list, -1) == False\n",
        "\n",
        "my_list = [1, 2, 3, 4]\n",
        "print(my_function(my_list, 2))"
      ],
      "metadata": {
        "colab": {
          "base_uri": "https://localhost:8080/"
        },
        "id": "qm_jTmXsFEPT",
        "outputId": "f959d669-72d6-4ac1-a8d3-8e04af9095cc"
      },
      "execution_count": 24,
      "outputs": [
        {
          "output_type": "stream",
          "name": "stdout",
          "text": [
            "True\n"
          ]
        }
      ]
    },
    {
      "cell_type": "markdown",
      "source": [
        "**Câu 11**"
      ],
      "metadata": {
        "id": "fC7-r0mfFey3"
      }
    },
    {
      "cell_type": "code",
      "source": [
        "def my_function(list_nums=[0, 1, 2]):\n",
        "    var = 0\n",
        "    for i in list_nums:\n",
        "        var += i\n",
        "    return float(var)/float(len(list_nums))\n",
        "\n",
        "assert my_function([4, 6, 8]) == 6\n",
        "print(my_function())"
      ],
      "metadata": {
        "colab": {
          "base_uri": "https://localhost:8080/"
        },
        "id": "Aj3wHAwlFgUw",
        "outputId": "70dbb290-dcba-4785-ddba-506205a2fda0"
      },
      "execution_count": 25,
      "outputs": [
        {
          "output_type": "stream",
          "name": "stdout",
          "text": [
            "1.0\n"
          ]
        }
      ]
    },
    {
      "cell_type": "markdown",
      "source": [
        "**Câu 12**"
      ],
      "metadata": {
        "id": "9QNgdWt5FrMZ"
      }
    },
    {
      "cell_type": "code",
      "source": [
        "def my_function(data):\n",
        "    var = []\n",
        "    for i in data:\n",
        "        if i % 3 == 0:\n",
        "            var.append(i)\n",
        "    return var\n",
        "\n",
        "\n",
        "print(my_function([1, 2, 3, 5, 6]))"
      ],
      "metadata": {
        "colab": {
          "base_uri": "https://localhost:8080/"
        },
        "id": "AHYu_MRyFszN",
        "outputId": "6bb0eb34-aa83-4419-87c4-3eb0d2fb3f59"
      },
      "execution_count": 26,
      "outputs": [
        {
          "output_type": "stream",
          "name": "stdout",
          "text": [
            "[3, 6]\n"
          ]
        }
      ]
    },
    {
      "cell_type": "markdown",
      "source": [
        "**Câu 13**"
      ],
      "metadata": {
        "id": "9pltnNRqG5uC"
      }
    },
    {
      "cell_type": "code",
      "source": [
        "def my_function(y):\n",
        "    var = 1\n",
        "    while (y > 1):\n",
        "        var *= y\n",
        "        y -= 1\n",
        "    return var\n",
        "\n",
        "assert my_function(8) == 40320\n",
        "print(my_function(4))"
      ],
      "metadata": {
        "colab": {
          "base_uri": "https://localhost:8080/"
        },
        "id": "TolTNPAHG68b",
        "outputId": "132966f5-44ca-4e59-ff40-fff99b6ef5b5"
      },
      "execution_count": 29,
      "outputs": [
        {
          "output_type": "stream",
          "name": "stdout",
          "text": [
            "24\n"
          ]
        }
      ]
    },
    {
      "cell_type": "markdown",
      "source": [
        "**Câu 14**"
      ],
      "metadata": {
        "id": "tjhLOZ5hFzje"
      }
    },
    {
      "cell_type": "code",
      "source": [
        "def my_function(x):\n",
        "    res = ''\n",
        "    for i in range(len(x) - 1, -1, -1):\n",
        "        res += x[i]\n",
        "    return res\n",
        "\n",
        "x = 'I can do it'\n",
        "assert my_function(x) == \"ti od nac I\"\n",
        "\n",
        "x = 'apricot'\n",
        "print(my_function(x))"
      ],
      "metadata": {
        "colab": {
          "base_uri": "https://localhost:8080/"
        },
        "id": "912bCFswF0uZ",
        "outputId": "7f6f76a2-8829-427f-ca47-5824ae760c28"
      },
      "execution_count": 28,
      "outputs": [
        {
          "output_type": "stream",
          "name": "stdout",
          "text": [
            "tocirpa\n"
          ]
        }
      ]
    },
    {
      "cell_type": "markdown",
      "source": [
        "**Câu 15**"
      ],
      "metadata": {
        "id": "t7aqhTaKHSzJ"
      }
    },
    {
      "cell_type": "code",
      "source": [
        "def function_helper(x):\n",
        "    if x > 0:\n",
        "        return 'T'\n",
        "    else:\n",
        "        return 'N'\n",
        "\n",
        "def my_function(data):\n",
        "    res = [function_helper(x) for x in data]\n",
        "    return res\n",
        "\n",
        "data = [10, 0, -10, -1]\n",
        "assert my_function(data) == ['T', 'N', 'N', 'N']\n",
        "\n",
        "data = [2, 3, 5, -1]\n",
        "print(my_function(data))"
      ],
      "metadata": {
        "colab": {
          "base_uri": "https://localhost:8080/"
        },
        "id": "LmXjir2LHUKg",
        "outputId": "27412617-af91-441f-c758-c1a99e4704c3"
      },
      "execution_count": 30,
      "outputs": [
        {
          "output_type": "stream",
          "name": "stdout",
          "text": [
            "['T', 'T', 'T', 'N']\n"
          ]
        }
      ]
    },
    {
      "cell_type": "markdown",
      "source": [
        "**Câu 16**"
      ],
      "metadata": {
        "id": "cbqk3DIhH65J"
      }
    },
    {
      "cell_type": "code",
      "source": [
        "def function_helper(x, data):\n",
        "    for i in data:\n",
        "        if x == i:\n",
        "            return 0\n",
        "    return 1\n",
        "\n",
        "def my_function(data):\n",
        "    res = []\n",
        "    for i in data:\n",
        "        if function_helper(i, res):\n",
        "            res.append(i)\n",
        "    return res\n",
        "\n",
        "lst = [10, 10, 9, 7, 7]\n",
        "assert my_function(lst) == [10, 9, 7]\n",
        "\n",
        "lst = [9, 9, 8, 1, 1]\n",
        "print(my_function(lst))"
      ],
      "metadata": {
        "colab": {
          "base_uri": "https://localhost:8080/"
        },
        "id": "fvpfSyqeH-JZ",
        "outputId": "a9d01760-5d5f-4f11-dfbf-eae6430edcde"
      },
      "execution_count": 31,
      "outputs": [
        {
          "output_type": "stream",
          "name": "stdout",
          "text": [
            "[9, 8, 1]\n"
          ]
        }
      ]
    }
  ]
}