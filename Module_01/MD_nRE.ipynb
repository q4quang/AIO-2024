{
  "nbformat": 4,
  "nbformat_minor": 0,
  "metadata": {
    "colab": {
      "provenance": [],
      "authorship_tag": "ABX9TyNC4syKaEX+UeWvW3cG20wO",
      "include_colab_link": true
    },
    "kernelspec": {
      "name": "python3",
      "display_name": "Python 3"
    },
    "language_info": {
      "name": "python"
    }
  },
  "cells": [
    {
      "cell_type": "markdown",
      "metadata": {
        "id": "view-in-github",
        "colab_type": "text"
      },
      "source": [
        "<a href=\"https://colab.research.google.com/github/q4quang/AIO-2024/blob/feature/MD_nRE.ipynb\" target=\"_parent\"><img src=\"https://colab.research.google.com/assets/colab-badge.svg\" alt=\"Open In Colab\"/></a>"
      ]
    },
    {
      "cell_type": "code",
      "execution_count": 1,
      "metadata": {
        "colab": {
          "base_uri": "https://localhost:8080/"
        },
        "id": "W8GBQjKgjZvJ",
        "outputId": "c3a84cde-c5ab-4277-d446-a9f8cd7415b7"
      },
      "outputs": [
        {
          "output_type": "stream",
          "name": "stdout",
          "text": [
            "Input n\n",
            "2\n",
            "Input p\n",
            "1\n",
            "input y predict\n",
            "99.5\n",
            "input y\n",
            "100\n",
            "0.025031328369998107\n"
          ]
        }
      ],
      "source": [
        "# Mean Difference of nth Root Error:\n",
        "def MD_nRE(y_target, y_predict, n, p):\n",
        "    return (y_target**(1/n) - y_predict**(1/n))**p\n",
        "print(\"Input n\")\n",
        "n = input()\n",
        "print(\"Input p\")\n",
        "p = input()\n",
        "print(\"input y hat\")\n",
        "y_hat = input()\n",
        "print(\"input y\")\n",
        "y = input()\n",
        "print(MD_nRE(float(y), float(y_hat), float(n), float(p)))\n"
      ]
    }
  ]
}