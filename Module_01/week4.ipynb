{
  "nbformat": 4,
  "nbformat_minor": 0,
  "metadata": {
    "colab": {
      "provenance": [],
      "authorship_tag": "ABX9TyPAefnFlN7iR/Q59IF6s7YZ",
      "include_colab_link": true
    },
    "kernelspec": {
      "name": "python3",
      "display_name": "Python 3"
    },
    "language_info": {
      "name": "python"
    }
  },
  "cells": [
    {
      "cell_type": "markdown",
      "metadata": {
        "id": "view-in-github",
        "colab_type": "text"
      },
      "source": [
        "<a href=\"https://colab.research.google.com/github/q4quang/AIO-2024/blob/feature/week4.ipynb\" target=\"_parent\"><img src=\"https://colab.research.google.com/assets/colab-badge.svg\" alt=\"Open In Colab\"/></a>"
      ]
    },
    {
      "cell_type": "markdown",
      "source": [
        "**1. Word Correction**"
      ],
      "metadata": {
        "id": "4oQejh7eo8DI"
      }
    },
    {
      "cell_type": "code",
      "execution_count": 3,
      "metadata": {
        "colab": {
          "base_uri": "https://localhost:8080/"
        },
        "id": "xkzbh1aDP45p",
        "outputId": "56d57551-c9f2-4add-8fd2-d060b78080af"
      },
      "outputs": [
        {
          "output_type": "stream",
          "name": "stderr",
          "text": [
            "2024-07-01 12:31:29.685 \n",
            "  \u001b[33m\u001b[1mWarning:\u001b[0m to view this Streamlit app on a browser, run it with the following\n",
            "  command:\n",
            "\n",
            "    streamlit run /usr/local/lib/python3.10/dist-packages/colab_kernel_launcher.py [ARGUMENTS]\n",
            "2024-07-01 12:31:29.689 Session state does not function when running a script without `streamlit run`\n"
          ]
        }
      ],
      "source": [
        "import streamlit as st\n",
        "\n",
        "\n",
        "def load_vocab(file_path):\n",
        "    with open(file_path, 'r') as f:\n",
        "        lines = f.readlines()\n",
        "    words = sorted(set([line.strip().lower() for line in lines]))\n",
        "    return words\n",
        "\n",
        "\n",
        "def levenshtein_distance(token1, token2):\n",
        "    distances = [[0] * (len(token2) + 1) for i in range(len(token1) + 1)]\n",
        "\n",
        "    for t1 in range(len(token1) + 1):\n",
        "        distances[t1][0] = t1\n",
        "\n",
        "    for t2 in range(len(token2) + 1):\n",
        "        distances[0][t2] = t2\n",
        "\n",
        "    a = 0\n",
        "\n",
        "    b = 0\n",
        "    c = 0\n",
        "\n",
        "    for t1 in range(1, len(token1) + 1):\n",
        "        for t2 in range(1, len(token2) + 1):\n",
        "            if token1[t1 - 1] == token2[t2 - 1]:\n",
        "                distances[t1][t2] = distances[t1 - 1][t2 - 1]\n",
        "            else:\n",
        "                a = distances[t1][t2 - 1]\n",
        "                b = distances[t1 - 1][t2]\n",
        "                c = distances[t1 - 1][t2 - 1]\n",
        "\n",
        "            if a <= b and a <= c:\n",
        "                distances[t1][t2] = a + 1\n",
        "            elif b <= a and b <= c:\n",
        "                distances[t1][t2] = b + 1\n",
        "            else:\n",
        "                distances[t1][t2] = c + 1\n",
        "\n",
        "    return distances[len(token1)][len(token2)]\n",
        "\n",
        "\n",
        "def main():\n",
        "    vocabs = load_vocab(file_path='vocab.txt')\n",
        "    st.title(\"Word Correction using Levenshtein Distance\")\n",
        "    word = st.text_input('Word:')\n",
        "\n",
        "    if st.button(\"Compute\"):\n",
        "\n",
        "        # compute levenshtein distance\n",
        "        leven_distances = dict()\n",
        "        for vocab in vocabs:\n",
        "            leven_distances[vocab] = levenshtein_distance(word, vocab)\n",
        "\n",
        "        # sorted by distance\n",
        "        sorted_distances = dict(sorted(leven_distances.items(), key=lambda item: item[1]))\n",
        "        correct_word = list(sorted_distances.keys())[0]\n",
        "        st.write('Correct word: ', correct_word)\n",
        "\n",
        "        col1, col2 = st.columns(2)\n",
        "        col1.write('Vocabulary:')\n",
        "        col1.write(vocabs)\n",
        "\n",
        "        col2.write('Distances:')\n",
        "        col2.write(sorted_distances)\n",
        "\n",
        "\n",
        "if __name__ == \"__main__\":\n",
        "    main()"
      ]
    },
    {
      "cell_type": "markdown",
      "source": [
        "**2. Object Detection**"
      ],
      "metadata": {
        "id": "9cmXNjeGpE18"
      }
    },
    {
      "cell_type": "code",
      "source": [
        "import cv2\n",
        "import numpy as np\n",
        "from PIL import Image\n",
        "import streamlit as st\n",
        "\n",
        "MODEL = \"model/MobileNetSSD_deploy.caffemodel\"\n",
        "PROTOTXT = \"model/MobileNetSSD_deploy.prototxt.txt\"\n",
        "\n",
        "\n",
        "def process_image(image):\n",
        "    blob = cv2.dnn.blobFromImage(cv2.resize(image, (300, 300)), 0.007843, (300, 300), 127.5)\n",
        "    net = cv2.dnn.readNetFromCaffe(PROTOTXT, MODEL)\n",
        "    net.setInput(blob)\n",
        "    detections = net.forward()\n",
        "    return detections\n",
        "\n",
        "\n",
        "def annotate_image(image, detections, confidence_threshold=0.5):\n",
        "    # loop over the detections\n",
        "    (h, w) = image.shape[:2]\n",
        "    for i in np.arange(0, detections.shape[2]):\n",
        "        confidence = detections[0, 0, i, 2]\n",
        "\n",
        "        if confidence > confidence_threshold:\n",
        "            # extract the index of the class label from the `detections`,\n",
        "            # then compute the (x, y)-coordinates of the bounding box for\n",
        "            # the object\n",
        "            idx = int(detections[0, 0, i, 1])\n",
        "            box = detections[0, 0, i, 3:7] * np.array([w, h, w, h])\n",
        "            (startX, startY, endX, endY) = box.astype(\"int\")\n",
        "            cv2.rectangle(image, (startX, startY), (endX, endY), 70, 2)\n",
        "    return image\n",
        "\n",
        "\n",
        "def main():\n",
        "    st.title('Object Detection for Images')\n",
        "    file = st.file_uploader('Upload Image', type=['jpg', 'png', 'jpeg'])\n",
        "    if file is not None:\n",
        "        st.image(file, caption=\"Uploaded Image\")\n",
        "\n",
        "        image = Image.open(file)\n",
        "        image = np.array(image)\n",
        "        detections = process_image(image)\n",
        "        processed_image = annotate_image(image, detections)\n",
        "        st.image(processed_image, caption=\"Processed Image\")\n",
        "\n",
        "\n",
        "if __name__ == \"__main__\":\n",
        "    main()"
      ],
      "metadata": {
        "id": "mk7OTLvepNac"
      },
      "execution_count": 5,
      "outputs": []
    },
    {
      "cell_type": "markdown",
      "source": [
        "**3. Chatbot**"
      ],
      "metadata": {
        "id": "EdPoQ6R6qOdx"
      }
    },
    {
      "cell_type": "code",
      "source": [
        "import streamlit as st\n",
        "from hugchat import hugchat\n",
        "from hugchat.login import Login\n",
        "\n",
        "# App title\n",
        "st.title('Simple ChatBot')\n",
        "\n",
        "# Hugging Face Credentials\n",
        "with st.sidebar:\n",
        "    st.title('Login HugChat')\n",
        "    hf_email = st.text_input('Enter E-mail:')\n",
        "    hf_pass = st.text_input('Enter Password:', type='password')\n",
        "    if not (hf_email and hf_pass):\n",
        "        st.warning('Please enter your account!', icon='⚠️')\n",
        "    else:\n",
        "        st.success('Proceed to entering your prompt message!', icon='👉')\n",
        "\n",
        "# Store LLM generated responses\n",
        "if \"messages\" not in st.session_state.keys():\n",
        "    st.session_state.messages = [{\"role\": \"assistant\", \"content\": \"How may I help you?\"}]\n",
        "\n",
        "# Display chat messages\n",
        "for message in st.session_state.messages:\n",
        "    with st.chat_message(message[\"role\"]):\n",
        "        st.write(message[\"content\"])\n",
        "\n",
        "\n",
        "# Function for generating LLM response\n",
        "def generate_response(prompt_input, email, passwd):\n",
        "    # Hugging Face Login\n",
        "    sign = Login(email, passwd)\n",
        "    cookies = sign.login()\n",
        "    # Create ChatBot\n",
        "    chatbot = hugchat.ChatBot(cookies=cookies.get_dict())\n",
        "    return chatbot.chat(prompt_input)\n",
        "\n",
        "\n",
        "# User-provided prompt\n",
        "if prompt := st.chat_input(disabled=not (hf_email and hf_pass)):\n",
        "    st.session_state.messages.append({\"role\": \"user\", \"content\": prompt})\n",
        "    with st.chat_message(\"user\"):\n",
        "        st.write(prompt)\n",
        "\n",
        "# Generate a new response if last message is not from assistant\n",
        "if st.session_state.messages[-1][\"role\"] != \"assistant\":\n",
        "    with st.chat_message(\"assistant\"):\n",
        "        with st.spinner(\"Thinking...\"):\n",
        "            response = generate_response(prompt, hf_email, hf_pass)\n",
        "            st.write(response)\n",
        "    message = {\"role\": \"assistant\", \"content\": response}\n",
        "    st.session_state.messages.append(message)"
      ],
      "metadata": {
        "id": "AsBIBVGnqQDc"
      },
      "execution_count": 8,
      "outputs": []
    },
    {
      "cell_type": "code",
      "source": [
        "!pip install hugchat"
      ],
      "metadata": {
        "colab": {
          "base_uri": "https://localhost:8080/"
        },
        "id": "PUuwH9VYqsKV",
        "outputId": "537e341f-63eb-4bd1-d00b-86eb6c59c3c4"
      },
      "execution_count": 7,
      "outputs": [
        {
          "output_type": "stream",
          "name": "stdout",
          "text": [
            "Collecting hugchat\n",
            "  Downloading hugchat-0.4.8-py3-none-any.whl (34 kB)\n",
            "Requirement already satisfied: requests in /usr/local/lib/python3.10/dist-packages (from hugchat) (2.31.0)\n",
            "Collecting requests-toolbelt (from hugchat)\n",
            "  Downloading requests_toolbelt-1.0.0-py2.py3-none-any.whl (54 kB)\n",
            "\u001b[2K     \u001b[90m━━━━━━━━━━━━━━━━━━━━━━━━━━━━━━━━━━━━━━━━\u001b[0m \u001b[32m54.5/54.5 kB\u001b[0m \u001b[31m1.1 MB/s\u001b[0m eta \u001b[36m0:00:00\u001b[0m\n",
            "\u001b[?25hRequirement already satisfied: charset-normalizer<4,>=2 in /usr/local/lib/python3.10/dist-packages (from requests->hugchat) (3.3.2)\n",
            "Requirement already satisfied: idna<4,>=2.5 in /usr/local/lib/python3.10/dist-packages (from requests->hugchat) (3.7)\n",
            "Requirement already satisfied: urllib3<3,>=1.21.1 in /usr/local/lib/python3.10/dist-packages (from requests->hugchat) (2.0.7)\n",
            "Requirement already satisfied: certifi>=2017.4.17 in /usr/local/lib/python3.10/dist-packages (from requests->hugchat) (2024.6.2)\n",
            "Installing collected packages: requests-toolbelt, hugchat\n",
            "Successfully installed hugchat-0.4.8 requests-toolbelt-1.0.0\n"
          ]
        }
      ]
    }
  ]
}