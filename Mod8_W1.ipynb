{
  "nbformat": 4,
  "nbformat_minor": 0,
  "metadata": {
    "colab": {
      "provenance": [],
      "authorship_tag": "ABX9TyPzCyLLJw7twmdISad+PpBm",
      "include_colab_link": true
    },
    "kernelspec": {
      "name": "python3",
      "display_name": "Python 3"
    },
    "language_info": {
      "name": "python"
    }
  },
  "cells": [
    {
      "cell_type": "markdown",
      "metadata": {
        "id": "view-in-github",
        "colab_type": "text"
      },
      "source": [
        "<a href=\"https://colab.research.google.com/github/q4quang/AIO-2024/blob/feature/Mod8_W1.ipynb\" target=\"_parent\"><img src=\"https://colab.research.google.com/assets/colab-badge.svg\" alt=\"Open In Colab\"/></a>"
      ]
    },
    {
      "cell_type": "code",
      "execution_count": 2,
      "metadata": {
        "id": "ceyHewUqzxnl"
      },
      "outputs": [],
      "source": [
        "import numpy as np\n",
        "\n",
        "def sigmoid(z):\n",
        "    return 1 / (1 + np.exp(-z))\n",
        "\n",
        "def predict(X, theta):\n",
        "    return sigmoid(np.dot(X, theta))\n",
        "\n",
        "def compute_loss(y_hat, y):\n",
        "    y_hat = np.clip(y_hat, 1e-7, 1-1e-7)\n",
        "    return -np.mean(y * np.log(y_hat) + (1 - y) * np.log(1 - y_hat))\n",
        "\n",
        "def compute_gradient(X, y, y_hat):\n",
        "    return np.dot(X.T, y_hat - y) / y.size\n",
        "\n",
        "def update_theta(theta, gradient, lr):\n",
        "    return theta - lr * gradient\n",
        "\n",
        "def compute_accuracy(X, y, theta):\n",
        "    y_hat = predict(X, theta).round()\n",
        "    return (y_hat == y).mean()"
      ]
    },
    {
      "cell_type": "code",
      "source": [
        "X = [[22.3, -1.5, 1.1, 1]]\n",
        "theta = [0.1, -0.15, 0.3, -0.2]\n",
        "predict(X, theta)"
      ],
      "metadata": {
        "colab": {
          "base_uri": "https://localhost:8080/"
        },
        "id": "UTTGC8FO06wC",
        "outputId": "888777b8-ea31-4115-ee29-9444638968fa"
      },
      "execution_count": 3,
      "outputs": [
        {
          "output_type": "execute_result",
          "data": {
            "text/plain": [
              "array([0.92988994])"
            ]
          },
          "metadata": {},
          "execution_count": 3
        }
      ]
    },
    {
      "cell_type": "code",
      "source": [
        "y = np.array([1, 0, 0, 1])\n",
        "y_hat = np.array([0.8, 0.75, 0.3, 0.95])\n",
        "compute_loss(y_hat, y).round(3)"
      ],
      "metadata": {
        "colab": {
          "base_uri": "https://localhost:8080/"
        },
        "id": "xBDZC94z1B1L",
        "outputId": "45810325-db9b-4234-8e5a-d86d6eddd476"
      },
      "execution_count": 5,
      "outputs": [
        {
          "output_type": "execute_result",
          "data": {
            "text/plain": [
              "0.504"
            ]
          },
          "metadata": {},
          "execution_count": 5
        }
      ]
    },
    {
      "cell_type": "code",
      "source": [
        "X = np.array([[1, 2], [2, 1], [1, 1], [2, 2]])\n",
        "y = np.array([0, 1, 0, 1])\n",
        "y_hat = np.array([0.25, 0.75, 0.4, 0.8])\n",
        "compute_gradient(X, y, y_hat)"
      ],
      "metadata": {
        "colab": {
          "base_uri": "https://localhost:8080/"
        },
        "id": "xqpGdWWb3_K5",
        "outputId": "40d9524c-615c-434e-fba3-ebb586800a87"
      },
      "execution_count": 6,
      "outputs": [
        {
          "output_type": "execute_result",
          "data": {
            "text/plain": [
              "array([-0.0625,  0.0625])"
            ]
          },
          "metadata": {},
          "execution_count": 6
        }
      ]
    },
    {
      "cell_type": "code",
      "source": [
        "y = [1, 0, 1, 1]\n",
        "y_hat = [0.85, 0.35, 0.9, 0.75]\n",
        "\n",
        "def compute_accuracy(y, y_hat):\n",
        "    return np.mean(np.round(y_hat) == y)\n",
        "\n",
        "compute_accuracy(y, y_hat)"
      ],
      "metadata": {
        "colab": {
          "base_uri": "https://localhost:8080/"
        },
        "id": "zepWn3qd4OC5",
        "outputId": "bf63ea84-2417-472b-8fc8-75d880b7f9c5"
      },
      "execution_count": 7,
      "outputs": [
        {
          "output_type": "execute_result",
          "data": {
            "text/plain": [
              "1.0"
            ]
          },
          "metadata": {},
          "execution_count": 7
        }
      ]
    },
    {
      "cell_type": "code",
      "source": [
        "X = np.array([[1, 3], [2, 1], [3, 2], [1, 2]])\n",
        "y = np.array([1, 0, 1, 1])\n",
        "y_hat = np.array([0.7, 0.4, 0.6, 0.85])\n",
        "compute_gradient(X, y, y_hat)"
      ],
      "metadata": {
        "colab": {
          "base_uri": "https://localhost:8080/"
        },
        "id": "Krn11CSk4mra",
        "outputId": "ce44ec95-4536-498f-8845-ca90e8d98ba8"
      },
      "execution_count": 8,
      "outputs": [
        {
          "output_type": "execute_result",
          "data": {
            "text/plain": [
              "array([-0.2125, -0.4   ])"
            ]
          },
          "metadata": {},
          "execution_count": 8
        }
      ]
    }
  ]
}