{
  "nbformat": 4,
  "nbformat_minor": 0,
  "metadata": {
    "colab": {
      "provenance": [],
      "authorship_tag": "ABX9TyN6mn2L1S01NGI7/i83SxnA",
      "include_colab_link": true
    },
    "kernelspec": {
      "name": "python3",
      "display_name": "Python 3"
    },
    "language_info": {
      "name": "python"
    }
  },
  "cells": [
    {
      "cell_type": "markdown",
      "metadata": {
        "id": "view-in-github",
        "colab_type": "text"
      },
      "source": [
        "<a href=\"https://colab.research.google.com/github/q4quang/AIO-2024/blob/feature/f1_score.ipynb\" target=\"_parent\"><img src=\"https://colab.research.google.com/assets/colab-badge.svg\" alt=\"Open In Colab\"/></a>"
      ]
    },
    {
      "cell_type": "code",
      "execution_count": 34,
      "metadata": {
        "colab": {
          "base_uri": "https://localhost:8080/",
          "height": 108
        },
        "id": "PkIFrsVV0XWt",
        "outputId": "039efabd-740d-4306-d6a0-a78efa2d4c17"
      },
      "outputs": [
        {
          "output_type": "error",
          "ename": "SyntaxError",
          "evalue": "invalid decimal literal (<ipython-input-34-788f1a2c11fa>, line 19)",
          "traceback": [
            "\u001b[0;36m  File \u001b[0;32m\"<ipython-input-34-788f1a2c11fa>\"\u001b[0;36m, line \u001b[0;32m19\u001b[0m\n\u001b[0;31m    print(\"F1-score = \", round(f1_score(tp=2a, fp=3, fn=5), 2))\u001b[0m\n\u001b[0m                                           ^\u001b[0m\n\u001b[0;31mSyntaxError\u001b[0m\u001b[0;31m:\u001b[0m invalid decimal literal\n"
          ]
        }
      ],
      "source": [
        "#caculate f1-score\n",
        "def f1_score(tp, fp, fn):\n",
        "    if not isinstance(tp, int):\n",
        "        print(\"tp must be int\")\n",
        "        return\n",
        "    if not type(fp) is int:\n",
        "        raise TypeError(\"fp must be int\")\n",
        "    if not type(fn) is int:\n",
        "        raise TypeError(\"fn must be int\")\n",
        "    if tp <= 0 or fp <= 0 or fn <= 0:\n",
        "        raise TypeError(\"tp and fp and fn must be greater than zero\")\n",
        "        return\n",
        "    precision = tp/(tp+fp)\n",
        "    recall = tp/(tp+fn)\n",
        "    f1 = 2*precision*recall/(precision+recall)\n",
        "    return f1\n",
        "\n",
        "assert round(f1_score(tp=2, fp=3, fn=5), 2) == 0.33\n",
        "print(\"F1-score = \", round(f1_score(tp=2, fp=3, fn=5), 2))"
      ]
    },
    {
      "cell_type": "code",
      "source": [],
      "metadata": {
        "id": "-TktRYSIaI6j"
      },
      "execution_count": null,
      "outputs": []
    }
  ]
}