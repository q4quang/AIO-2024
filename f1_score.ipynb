{
  "nbformat": 4,
  "nbformat_minor": 0,
  "metadata": {
    "colab": {
      "provenance": [],
      "authorship_tag": "ABX9TyMtHOn+G4zjtjAUF0haepRR",
      "include_colab_link": true
    },
    "kernelspec": {
      "name": "python3",
      "display_name": "Python 3"
    },
    "language_info": {
      "name": "python"
    }
  },
  "cells": [
    {
      "cell_type": "markdown",
      "metadata": {
        "id": "view-in-github",
        "colab_type": "text"
      },
      "source": [
        "<a href=\"https://colab.research.google.com/github/q4quang/AIO-2024/blob/feature/f1_score.ipynb\" target=\"_parent\"><img src=\"https://colab.research.google.com/assets/colab-badge.svg\" alt=\"Open In Colab\"/></a>"
      ]
    },
    {
      "cell_type": "code",
      "execution_count": 1,
      "metadata": {
        "colab": {
          "base_uri": "https://localhost:8080/"
        },
        "id": "PkIFrsVV0XWt",
        "outputId": "e63dc653-d15b-4670-d8c1-239b6593b9d3"
      },
      "outputs": [
        {
          "output_type": "stream",
          "name": "stdout",
          "text": [
            "F1-score =  0.33\n"
          ]
        }
      ],
      "source": [
        "#caculate f1-score\n",
        "def f1_score(tp, fp, fn):\n",
        "    if not isinstance(tp, int):\n",
        "        print(\"tp must be int\")\n",
        "        return\n",
        "    if not isinstance(fp, int):\n",
        "        print(\"fp must be int\")\n",
        "        return\n",
        "    if not isinstance(fn, int):\n",
        "        print(\"fn must be int\")\n",
        "        return\n",
        "    if tp <= 0 or fp <= 0 or fn <= 0:\n",
        "        raise TypeError(\"tp and fp and fn must be greater than zero\")\n",
        "        return\n",
        "    precision = tp/(tp+fp)\n",
        "    recall = tp/(tp+fn)\n",
        "    f1 = 2*precision*recall/(precision+recall)\n",
        "    return f1\n",
        "\n",
        "assert round(f1_score(tp=2, fp=3, fn=5), 2) == 0.33\n",
        "print(\"F1-score = \", round(f1_score(tp=2, fp=3, fn=5), 2))"
      ]
    },
    {
      "cell_type": "code",
      "source": [],
      "metadata": {
        "id": "-TktRYSIaI6j"
      },
      "execution_count": null,
      "outputs": []
    }
  ]
}