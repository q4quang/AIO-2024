{
  "cells": [
    {
      "cell_type": "markdown",
      "metadata": {
        "colab_type": "text",
        "id": "view-in-github"
      },
      "source": [
        "<a href=\"https://colab.research.google.com/github/q4quang/AIO-2024/blob/feature/f1_score.ipynb\" target=\"_parent\"><img src=\"https://colab.research.google.com/assets/colab-badge.svg\" alt=\"Open In Colab\"/></a>"
      ]
    },
    {
      "cell_type": "code",
      "execution_count": null,
      "metadata": {
        "colab": {
          "base_uri": "https://localhost:8080/"
        },
        "id": "PkIFrsVV0XWt",
        "outputId": "e63dc653-d15b-4670-d8c1-239b6593b9d3"
      },
      "outputs": [
        {
          "name": "stdout",
          "output_type": "stream",
          "text": [
            "F1-score =  0.33\n"
          ]
        }
      ],
      "source": [
        "#caculate f1-score\n",
        "def f1_score(tp, fp, fn):\n",
        "    if type(tp) != int:\n",
        "        print(\"tp must be int\")\n",
        "        return\n",
        "    if type(fp) != int:\n",
        "        print(\"fp must be int\")\n",
        "        return\n",
        "    if type(fn) != int:\n",
        "        print(\"fn must be int\")\n",
        "        return\n",
        "    if tp <= 0 or fp <= 0 or fn <= 0:\n",
        "        raise TypeError(\"tp and fp and fn must be greater than zero\")\n",
        "        return\n",
        "    precision = tp/(tp+fp)\n",
        "    recall = tp/(tp+fn)\n",
        "    f1 = 2*precision*recall/(precision+recall)\n",
        "    return f1\n",
        "\n",
        "assert round(f1_score(tp=2, fp=3, fn=5), 2) == 0.33\n",
        "print(\"F1-score = \", round(f1_score(tp=2, fp=3, fn=5), 2))"
      ]
    },
    {
      "cell_type": "code",
      "execution_count": null,
      "metadata": {
        "id": "-TktRYSIaI6j"
      },
      "outputs": [],
      "source": []
    }
  ],
  "metadata": {
    "colab": {
      "authorship_tag": "ABX9TyMtHOn+G4zjtjAUF0haepRR",
      "include_colab_link": true,
      "provenance": []
    },
    "kernelspec": {
      "display_name": "Python 3",
      "name": "python3"
    },
    "language_info": {
      "name": "python"
    }
  },
  "nbformat": 4,
  "nbformat_minor": 0
}
