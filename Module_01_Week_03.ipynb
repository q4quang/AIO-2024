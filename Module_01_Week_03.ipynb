{
  "nbformat": 4,
  "nbformat_minor": 0,
  "metadata": {
    "colab": {
      "provenance": [],
      "authorship_tag": "ABX9TyPhVEyKYhEzblFDW6NzTl3d",
      "include_colab_link": true
    },
    "kernelspec": {
      "name": "python3",
      "display_name": "Python 3"
    },
    "language_info": {
      "name": "python"
    }
  },
  "cells": [
    {
      "cell_type": "markdown",
      "metadata": {
        "id": "view-in-github",
        "colab_type": "text"
      },
      "source": [
        "<a href=\"https://colab.research.google.com/github/q4quang/AIO-2024/blob/feature/Module_01_Week_03.ipynb\" target=\"_parent\"><img src=\"https://colab.research.google.com/assets/colab-badge.svg\" alt=\"Open In Colab\"/></a>"
      ]
    },
    {
      "cell_type": "markdown",
      "source": [
        "**I. Câu hỏi tự luận**"
      ],
      "metadata": {
        "id": "9Sw7prfe_Guk"
      }
    },
    {
      "cell_type": "markdown",
      "source": [
        "**Câu 1**"
      ],
      "metadata": {
        "id": "zNHePWQJ_MQi"
      }
    },
    {
      "cell_type": "code",
      "execution_count": 3,
      "metadata": {
        "colab": {
          "base_uri": "https://localhost:8080/"
        },
        "id": "DS0DcMt--0Fz",
        "outputId": "34eef0fb-2092-45c1-b017-8bed8a396711"
      },
      "outputs": [
        {
          "output_type": "stream",
          "name": "stdout",
          "text": [
            "tensor([0.0900, 0.2447, 0.6652])\n",
            "tensor([0.0900, 0.2447, 0.6652])\n"
          ]
        }
      ],
      "source": [
        "import torch\n",
        "import torch.nn as nn\n",
        "\n",
        "\n",
        "class Softmax(nn.Module):\n",
        "    def __init__(self):\n",
        "        super().__init__()\n",
        "\n",
        "    def forward(self, x):\n",
        "        x_exp = torch.exp(x)\n",
        "        sum_exp = x_exp.sum(0, keepdim=True)\n",
        "        return x_exp/sum_exp\n",
        "\n",
        "\n",
        "class SoftmaxStable(nn.Module):\n",
        "    def __init__(self):\n",
        "        super().__init__()\n",
        "\n",
        "    def forward(self, x):\n",
        "        x_max = torch.max(x, dim=0, keepdim=True)\n",
        "        x_exp = torch.exp(x - x_max.values)\n",
        "        sum_exp = x_exp.sum(0, keepdim=True)\n",
        "        return x_exp/sum_exp\n",
        "\n",
        "\n",
        "data = torch.Tensor([1, 2, 3])\n",
        "softmax = Softmax()\n",
        "output1 = softmax(data)\n",
        "print(output1)\n",
        "\n",
        "data = torch.Tensor([1, 2, 3])\n",
        "softmax_stable = SoftmaxStable()\n",
        "output2 = softmax_stable(data)\n",
        "print(output2)"
      ]
    },
    {
      "cell_type": "markdown",
      "source": [
        "**Câu 2**"
      ],
      "metadata": {
        "id": "3dpsHxPDB-ni"
      }
    },
    {
      "cell_type": "code",
      "source": [
        "from abc import ABC , abstractmethod\n",
        "\n",
        "class Ward:\n",
        "    def __init__(self, name):\n",
        "        self.name = name\n",
        "        self.people = []\n",
        "\n",
        "    def add_person(self, person):\n",
        "        self.people.append(person)\n",
        "\n",
        "    def describe(self):\n",
        "        print(f\"Ward name: {self.name}\")\n",
        "        for person in self.people:\n",
        "            person.describe()\n",
        "\n",
        "    def count_doctor(self):\n",
        "        count = 0\n",
        "        for person in self.people:\n",
        "            if isinstance(person, Doctor):\n",
        "                count += 1\n",
        "        return count\n",
        "\n",
        "    def sort_age(self):\n",
        "        self.people.sort(key=lambda x: x._yob, reverse=True)\n",
        "\n",
        "    def compute_average(self):\n",
        "        average_yob = 0\n",
        "        count_teacher = 0\n",
        "        for person in self.people:\n",
        "            if isinstance(person, Teacher):\n",
        "                count_teacher += 1\n",
        "                average_yob += person._yob\n",
        "        return average_yob/count_teacher\n",
        "\n",
        "class Person:\n",
        "    def __init__(self, name: str, yob: int):\n",
        "        self._name = name\n",
        "        self._yob = yob\n",
        "\n",
        "    def get_yob(self):\n",
        "        return self._yob\n",
        "\n",
        "    @abstractmethod\n",
        "    def describe(self):\n",
        "        pass\n",
        "\n",
        "class Student(Person):\n",
        "    def __init__(self, name: str, yob: int, grade: str):\n",
        "        super().__init__(name, yob)\n",
        "        self.grade = grade\n",
        "\n",
        "    def describe(self):\n",
        "        print(f\"Student - Name: {self._name} - YoB: {self._yob} - Grade: {self.grade}\")\n",
        "\n",
        "\n",
        "class Teacher(Person):\n",
        "    def __init__(self, name: str, yob: int, subject: str):\n",
        "        super().__init__(name, yob)\n",
        "        self.subject = subject\n",
        "\n",
        "    def describe(self):\n",
        "        print(\n",
        "            f\"Teacher - Name: {self._name} - YoB: {self._yob} - Subject: {self.subject}\")\n",
        "\n",
        "\n",
        "class Doctor(Person):\n",
        "    def __init__(self, name: str, yob: int, specialist: str):\n",
        "        super().__init__(name, yob)\n",
        "        self.specialist = specialist\n",
        "\n",
        "    def describe(self):\n",
        "        print(f\"Doctor - Name: {self._name} - YoB: {self._yob} - Specialist: {self.specialist}\")\n",
        "\n",
        "\n",
        "# 2(a)\n",
        "student1 = Student(name=\"studentA\", yob=2010, grade=\"7\")\n",
        "student1.describe()\n",
        "teacher1 = Teacher(name=\"teacherA\", yob=1969, subject=\"Math\")\n",
        "teacher1.describe()\n",
        "doctor1 = Doctor(name=\"doctorA\", yob=1945, specialist=\"Endocrinologists\")\n",
        "doctor1.describe()\n",
        "\n",
        "# 2(b)\n",
        "print()\n",
        "teacher2 = Teacher(name=\"teacherB\", yob=1995, subject=\"History\")\n",
        "doctor2 = Doctor(name=\"doctorB\", yob=1975, specialist=\"Cardiologists\")\n",
        "ward1 = Ward(name=\"ward1\")\n",
        "ward1.add_person(student1)\n",
        "ward1.add_person(teacher1)\n",
        "ward1.add_person(teacher2)\n",
        "ward1.add_person(doctor1)\n",
        "ward1.add_person(doctor2)\n",
        "ward1.describe()\n",
        "\n",
        "# 2(c)\n",
        "print(f\"\\nNumber of doctors: {ward1.count_doctor()}\")\n",
        "\n",
        "# 2(d)\n",
        "print(\"\\nAfter sorting Age of Ward1 people:\")\n",
        "ward1.sort_age()\n",
        "ward1.describe()\n",
        "\n",
        "# 2(e)\n",
        "print(f\"\\nAverage year of birth (teachers): {ward1.compute_average()}\")\n"
      ],
      "metadata": {
        "colab": {
          "base_uri": "https://localhost:8080/"
        },
        "id": "sScx0DW2CF7w",
        "outputId": "2331e6da-1aa1-4736-ef94-8f8616058775"
      },
      "execution_count": 23,
      "outputs": [
        {
          "output_type": "stream",
          "name": "stdout",
          "text": [
            "Student - Name: studentA - YoB: 2010 - Grade: 7\n",
            "Teacher - Name: teacherA - YoB: 1969 - Subject: Math\n",
            "Doctor - Name: doctorA - YoB: 1945 - Specialist: Endocrinologists\n",
            "\n",
            "Ward name: ward1\n",
            "Student - Name: studentA - YoB: 2010 - Grade: 7\n",
            "Teacher - Name: teacherA - YoB: 1969 - Subject: Math\n",
            "Teacher - Name: teacherB - YoB: 1995 - Subject: History\n",
            "Doctor - Name: doctorA - YoB: 1945 - Specialist: Endocrinologists\n",
            "Doctor - Name: doctorB - YoB: 1975 - Specialist: Cardiologists\n",
            "\n",
            "Number of doctors: 2\n",
            "\n",
            "After sorting Age of Ward1 people:\n",
            "Ward name: ward1\n",
            "Student - Name: studentA - YoB: 2010 - Grade: 7\n",
            "Teacher - Name: teacherB - YoB: 1995 - Subject: History\n",
            "Doctor - Name: doctorB - YoB: 1975 - Specialist: Cardiologists\n",
            "Teacher - Name: teacherA - YoB: 1969 - Subject: Math\n",
            "Doctor - Name: doctorA - YoB: 1945 - Specialist: Endocrinologists\n",
            "\n",
            "Average year of birth (teachers): 1982.0\n"
          ]
        }
      ]
    },
    {
      "cell_type": "markdown",
      "source": [
        "**Câu 3**"
      ],
      "metadata": {
        "id": "Q7CFUovGMzkm"
      }
    },
    {
      "cell_type": "code",
      "source": [
        "\n",
        "class MyStack:\n",
        "    def __init__(self, capacity):\n",
        "        self.capacity = capacity\n",
        "        self.items = []\n",
        "\n",
        "    def is_empty(self):\n",
        "        return len(self.items) == 0\n",
        "\n",
        "    def is_full(self):\n",
        "        return len(self.items) == self.capacity\n",
        "\n",
        "    def pop(self):\n",
        "        if self.is_empty():\n",
        "            return \"Stack is empty.\"\n",
        "        return self.items.pop()\n",
        "\n",
        "    def push(self, value):\n",
        "        if self.is_full():\n",
        "            return \"Stack is full.\"\n",
        "        self.items.append(value)\n",
        "\n",
        "    def top(self):\n",
        "        if self.is_empty():\n",
        "            raise IndexError(\"Stack is empty.\")\n",
        "        return self.items[-1]\n",
        "\n",
        "\n",
        "stack1 = MyStack(capacity=5)\n",
        "print(stack1.is_empty())\n",
        "stack1.push(1)\n",
        "stack1.push(2)\n",
        "print(stack1.is_full())\n",
        "print(stack1.top())\n",
        "print(stack1.pop())\n",
        "print(stack1.top())\n",
        "print(stack1.pop())\n",
        "print(stack1.is_empty())\n"
      ],
      "metadata": {
        "colab": {
          "base_uri": "https://localhost:8080/"
        },
        "id": "8oOTo94EM1mn",
        "outputId": "b4d9fb8a-d9bd-43db-b918-ed9e961efcf5"
      },
      "execution_count": 7,
      "outputs": [
        {
          "output_type": "stream",
          "name": "stdout",
          "text": [
            "True\n",
            "False\n",
            "2\n",
            "2\n",
            "1\n",
            "1\n",
            "True\n"
          ]
        }
      ]
    },
    {
      "cell_type": "markdown",
      "source": [
        "**Câu 4**"
      ],
      "metadata": {
        "id": "u14AvnofRvPA"
      }
    },
    {
      "cell_type": "code",
      "source": [
        "class MyQueue:\n",
        "    def __init__(self, capacity):\n",
        "        self.capacity = capacity\n",
        "        self.items = []\n",
        "\n",
        "    def is_empty(self):\n",
        "        return len(self.items) == 0\n",
        "\n",
        "    def is_full(self):\n",
        "        return len(self.items) == self.capacity\n",
        "\n",
        "    def dequeue(self):\n",
        "        if self.is_empty():\n",
        "            return \"Queue is empty.\"\n",
        "        return self.items.pop(0)\n",
        "\n",
        "    def enqueue(self, value):\n",
        "        if self.is_full():\n",
        "            return \"Queue is full.\"\n",
        "        self.items.append(value)\n",
        "\n",
        "    def front(self):\n",
        "        return self.items[0]\n",
        "\n",
        "\n",
        "queue1 = MyQueue(capacity=5)\n",
        "queue1.enqueue(1)\n",
        "queue1.enqueue(2)\n",
        "print(queue1.is_full())\n",
        "print(queue1.front())\n",
        "print(queue1.dequeue())\n",
        "print(queue1.front())\n",
        "print(queue1.dequeue())\n",
        "print(queue1.is_empty())"
      ],
      "metadata": {
        "colab": {
          "base_uri": "https://localhost:8080/"
        },
        "id": "6ugeS_uRRwrl",
        "outputId": "76fcd908-3019-495b-d351-b34e92defe00"
      },
      "execution_count": 8,
      "outputs": [
        {
          "output_type": "stream",
          "name": "stdout",
          "text": [
            "False\n",
            "1\n",
            "1\n",
            "2\n",
            "2\n",
            "True\n"
          ]
        }
      ]
    },
    {
      "cell_type": "markdown",
      "source": [
        "**II. Câu hỏi trắc nghiệm**"
      ],
      "metadata": {
        "id": "alLi7n-nSqjv"
      }
    },
    {
      "cell_type": "markdown",
      "source": [
        "**Câu 1**"
      ],
      "metadata": {
        "id": "YckQGNSQStet"
      }
    },
    {
      "cell_type": "code",
      "source": [
        "data = torch.Tensor([1, 2, 3])\n",
        "softmax_function = nn.Softmax(dim=0)\n",
        "output = softmax_function(data)\n",
        "assert round(output[0].item(), 2) == 0.09\n",
        "print(output)"
      ],
      "metadata": {
        "colab": {
          "base_uri": "https://localhost:8080/"
        },
        "id": "Dvz92QVsSzLu",
        "outputId": "c49bd496-6d58-4b0b-8de9-54f94521168e"
      },
      "execution_count": 9,
      "outputs": [
        {
          "output_type": "stream",
          "name": "stdout",
          "text": [
            "tensor([0.0900, 0.2447, 0.6652])\n"
          ]
        }
      ]
    },
    {
      "cell_type": "markdown",
      "source": [
        "**Câu 2**"
      ],
      "metadata": {
        "id": "I92MKCjoU8bk"
      }
    },
    {
      "cell_type": "code",
      "source": [
        "data = torch.Tensor([5, 2, 4])\n",
        "my_softmax = Softmax()\n",
        "output = my_softmax(data)\n",
        "assert round(output[-1].item(), 2) == 0.26\n",
        "print(output)"
      ],
      "metadata": {
        "colab": {
          "base_uri": "https://localhost:8080/"
        },
        "id": "0QlFMXEHU-Zt",
        "outputId": "77ba4a78-68e0-45bf-c635-ccbbaa67865c"
      },
      "execution_count": 10,
      "outputs": [
        {
          "output_type": "stream",
          "name": "stdout",
          "text": [
            "tensor([0.7054, 0.0351, 0.2595])\n"
          ]
        }
      ]
    },
    {
      "cell_type": "markdown",
      "source": [
        "**Câu 3**"
      ],
      "metadata": {
        "id": "NoZJ_7rPVTuX"
      }
    },
    {
      "cell_type": "code",
      "source": [
        "data = torch.Tensor([1, 2, 300000000])\n",
        "my_softmax = Softmax()\n",
        "output = my_softmax(data)\n",
        "assert round(output[0].item(), 2) == 0.0\n",
        "print(output)"
      ],
      "metadata": {
        "colab": {
          "base_uri": "https://localhost:8080/"
        },
        "id": "sEhCPApVVVI7",
        "outputId": "bacee71b-fc70-4fa4-c615-5a0e67b8e39d"
      },
      "execution_count": 11,
      "outputs": [
        {
          "output_type": "stream",
          "name": "stdout",
          "text": [
            "tensor([0., 0., nan])\n"
          ]
        }
      ]
    },
    {
      "cell_type": "markdown",
      "source": [
        "**Câu 4**"
      ],
      "metadata": {
        "id": "64u6AiF4Vtbj"
      }
    },
    {
      "cell_type": "code",
      "source": [
        "data = torch.Tensor([1, 2, 3])\n",
        "softmax_stable = SoftmaxStable()\n",
        "output = softmax_stable(data)\n",
        "assert round(output[-1].item(), 2) == 0.67\n",
        "print(output)"
      ],
      "metadata": {
        "colab": {
          "base_uri": "https://localhost:8080/"
        },
        "id": "HmdIhsFHVrHT",
        "outputId": "2042ee0d-28d7-453c-f530-354ca7319c46"
      },
      "execution_count": 12,
      "outputs": [
        {
          "output_type": "stream",
          "name": "stdout",
          "text": [
            "tensor([0.0900, 0.2447, 0.6652])\n"
          ]
        }
      ]
    },
    {
      "cell_type": "markdown",
      "source": [
        "**Câu 5**"
      ],
      "metadata": {
        "id": "aMG643mKWHGC"
      }
    },
    {
      "cell_type": "code",
      "source": [
        "student1 = Student(name=\"studentZ2023\", yob=2011, grade=\"6\")\n",
        "assert student1._yob == 2011\n",
        "student1.describe()"
      ],
      "metadata": {
        "colab": {
          "base_uri": "https://localhost:8080/"
        },
        "id": "UDMDm6XVWI43",
        "outputId": "fd274973-7f4d-4ae1-a7b1-bb950a023a63"
      },
      "execution_count": 19,
      "outputs": [
        {
          "output_type": "stream",
          "name": "stdout",
          "text": [
            "Student - Name: studentZ2023 - YoB: 2011 - Grade: 6\n"
          ]
        }
      ]
    },
    {
      "cell_type": "markdown",
      "source": [
        "**Câu 6**"
      ],
      "metadata": {
        "id": "0OelvMngWNhW"
      }
    },
    {
      "cell_type": "code",
      "source": [
        "teacher1 = Teacher(name=\"teacherZ2023\", yob=1991, subject=\"History\")\n",
        "assert teacher1._yob == 1991\n",
        "teacher1.describe()"
      ],
      "metadata": {
        "colab": {
          "base_uri": "https://localhost:8080/"
        },
        "id": "Yby_dtoKWPKW",
        "outputId": "2f41618f-84bb-44f5-c689-f43da2dccd71"
      },
      "execution_count": 20,
      "outputs": [
        {
          "output_type": "stream",
          "name": "stdout",
          "text": [
            "Teacher - Name: teacherZ2023 - YoB: 1991 - Subject: History\n"
          ]
        }
      ]
    },
    {
      "cell_type": "markdown",
      "source": [
        "**Câu 7**"
      ],
      "metadata": {
        "id": "syIdkgx1WPi0"
      }
    },
    {
      "cell_type": "code",
      "source": [
        "doctor1 = Doctor(name=\"doctorZ2023\", yob=1981, specialist=\"Endocrinologists\")\n",
        "assert doctor1._yob == 1981\n",
        "doctor1.describe()"
      ],
      "metadata": {
        "colab": {
          "base_uri": "https://localhost:8080/"
        },
        "id": "oPcrHVtQWRBd",
        "outputId": "31a7e1b4-2bf1-4413-c0a0-6dc82ffb4b97"
      },
      "execution_count": 21,
      "outputs": [
        {
          "output_type": "stream",
          "name": "stdout",
          "text": [
            "Doctor - Name: doctorZ2023 - YoB: 1981 - Specialist: Endocrinologists\n"
          ]
        }
      ]
    },
    {
      "cell_type": "markdown",
      "source": [
        "**Câu 8**"
      ],
      "metadata": {
        "id": "7AZ2UZOCWRW5"
      }
    },
    {
      "cell_type": "code",
      "source": [
        "ward1 = Ward(name=\"Ward1\")\n",
        "student1 = Student(name=\"studentA\", yob=2010, grade=\"7\")\n",
        "teacher1 = Teacher(name=\"teacherA\", yob=1969, subject=\"Math\")\n",
        "teacher2 = Teacher(name=\"teacherB\", yob=1995, subject=\"History\")\n",
        "doctor1 = Doctor(name=\"doctorA\", yob=1945, specialist=\"Endocrinologists\")\n",
        "doctor2 = Doctor(name=\"doctorB\", yob=1975, specialist=\"Cardiologists\")\n",
        "ward1.add_person(student1)\n",
        "ward1.add_person(teacher1)\n",
        "ward1.add_person(teacher2)\n",
        "ward1.add_person(doctor1)\n",
        "assert ward1.count_doctor() == 1\n",
        "ward1.add_person(doctor2)\n",
        "ward1.count_doctor()"
      ],
      "metadata": {
        "colab": {
          "base_uri": "https://localhost:8080/"
        },
        "id": "KcDmMNDaWTT3",
        "outputId": "68320aba-85b8-4e47-b99c-ffa1e5de763e"
      },
      "execution_count": 25,
      "outputs": [
        {
          "output_type": "execute_result",
          "data": {
            "text/plain": [
              "2"
            ]
          },
          "metadata": {},
          "execution_count": 25
        }
      ]
    },
    {
      "cell_type": "markdown",
      "source": [
        "**Câu 9**"
      ],
      "metadata": {
        "id": "LUXsPseiWTyz"
      }
    },
    {
      "cell_type": "code",
      "source": [
        "stack1 = MyStack(capacity=5)\n",
        "stack1.push(1)\n",
        "assert stack1.is_full() == False\n",
        "stack1.push(2)\n",
        "print(stack1.is_full())"
      ],
      "metadata": {
        "colab": {
          "base_uri": "https://localhost:8080/"
        },
        "id": "tOEHJpaKWVdY",
        "outputId": "1ef21a59-6322-420c-8ec8-bb64785905c9"
      },
      "execution_count": 26,
      "outputs": [
        {
          "output_type": "stream",
          "name": "stdout",
          "text": [
            "False\n"
          ]
        }
      ]
    },
    {
      "cell_type": "markdown",
      "source": [
        "**Câu 10**"
      ],
      "metadata": {
        "id": "bP3Se_3eWVzg"
      }
    },
    {
      "cell_type": "code",
      "source": [
        "stack1 = MyStack(capacity=5)\n",
        "stack1.push(1)\n",
        "assert stack1.is_full() == False\n",
        "stack1.push(2)\n",
        "print(stack1.top())"
      ],
      "metadata": {
        "colab": {
          "base_uri": "https://localhost:8080/"
        },
        "id": "y_LXCsryWXU1",
        "outputId": "0ee509b4-6138-4518-d360-cdb7ba8c82a0"
      },
      "execution_count": 27,
      "outputs": [
        {
          "output_type": "stream",
          "name": "stdout",
          "text": [
            "2\n"
          ]
        }
      ]
    },
    {
      "cell_type": "markdown",
      "source": [
        "**Câu 11**"
      ],
      "metadata": {
        "id": "FUg7m1w3WXsI"
      }
    },
    {
      "cell_type": "code",
      "source": [
        "queue1 = MyQueue(capacity=5)\n",
        "queue1.enqueue(1)\n",
        "assert queue1.is_full() == False\n",
        "queue1.enqueue(2)\n",
        "print(queue1.is_full())"
      ],
      "metadata": {
        "colab": {
          "base_uri": "https://localhost:8080/"
        },
        "id": "bqvFDvWKWZF6",
        "outputId": "c1ee0dfd-f02f-4d88-fadc-51981944ae36"
      },
      "execution_count": 28,
      "outputs": [
        {
          "output_type": "stream",
          "name": "stdout",
          "text": [
            "False\n"
          ]
        }
      ]
    },
    {
      "cell_type": "markdown",
      "source": [
        "**Câu 12**"
      ],
      "metadata": {
        "id": "Z-L4sixAWZiU"
      }
    },
    {
      "cell_type": "code",
      "source": [
        "queue1 = MyQueue(capacity=5)\n",
        "queue1.enqueue(1)\n",
        "assert queue1.is_full() == False\n",
        "queue1.enqueue(2)\n",
        "print(queue1.front())"
      ],
      "metadata": {
        "colab": {
          "base_uri": "https://localhost:8080/"
        },
        "id": "BZWqQFrqWbRc",
        "outputId": "4c96e62b-25d5-4882-a096-148807ffb9af"
      },
      "execution_count": 29,
      "outputs": [
        {
          "output_type": "stream",
          "name": "stdout",
          "text": [
            "1\n"
          ]
        }
      ]
    }
  ]
}