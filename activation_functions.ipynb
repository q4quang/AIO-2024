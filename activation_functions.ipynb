{
  "cells": [
    {
      "cell_type": "markdown",
      "metadata": {
        "colab_type": "text",
        "id": "view-in-github"
      },
      "source": [
        "<a href=\"https://colab.research.google.com/github/q4quang/AIO-2024/blob/feature/activation_functions.ipynb\" target=\"_parent\"><img src=\"https://colab.research.google.com/assets/colab-badge.svg\" alt=\"Open In Colab\"/></a>"
      ]
    },
    {
      "cell_type": "code",
      "execution_count": 7,
      "metadata": {
        "colab": {
          "base_uri": "https://localhost:8080/"
        },
        "id": "pNmPzA2rLVXL",
        "outputId": "7aa951f2-faf4-4537-cb28-14e7de0ba230"
      },
      "outputs": [
        {
          "name": "stdout",
          "output_type": "stream",
          "text": [
            "Input x = \n",
            "1.5\n",
            "Input activation functions (sigmoid/ relu/ elu):\n",
            "relu\n",
            "relu: f(1.5) = 1.5 \n"
          ]
        }
      ],
      "source": [
        "# activation functions (sigmoid/ relu/ elu)\n",
        "import math\n",
        "def is_number(n):\n",
        "    try:\n",
        "        float(n)\n",
        "    except ValueError:\n",
        "        return False\n",
        "    return True\n",
        "\n",
        "def sigmoid(x):\n",
        "    x = float(x)\n",
        "    return 1/(1+math.e**(-x))\n",
        "\n",
        "def relu(x):\n",
        "    x = float(x)\n",
        "    if x <= 0:\n",
        "        return 0\n",
        "    else:\n",
        "        return x\n",
        "\n",
        "def elu(x, alpha = 0.01):\n",
        "    x = float(x)\n",
        "    if x <= 0:\n",
        "        return alpha*(math.e**x-1)\n",
        "    else:\n",
        "        return x\n",
        "\n",
        "print(\"Input x value = \")\n",
        "x = input()\n",
        "if is_number(x) == True:\n",
        "    print(\"Input an activation function (sigmoid/ relu/ elu):\")\n",
        "    function_name = input()\n",
        "    if function_name == 'sigmoid':\n",
        "        output = sigmoid(x)\n",
        "        print(f'{function_name}: f({x}) = {output} ')\n",
        "    elif function_name == 'relu':\n",
        "        output = relu(x)\n",
        "        print(f'{function_name}: f({x}) = {output} ')\n",
        "    elif function_name == 'elu':\n",
        "        output = elu(x)\n",
        "        print(f'{function_name}: f({x}) = {output} ')\n",
        "    else:\n",
        "        print(f'{function_name} is not supported')\n",
        "else:\n",
        "    print('x must be a number')\n",
        "\n"
      ]
    }
  ],
  "metadata": {
    "colab": {
      "authorship_tag": "ABX9TyN7YHKnjlKAIg386YlPxa/j",
      "include_colab_link": true,
      "provenance": []
    },
    "kernelspec": {
      "display_name": "Python 3",
      "name": "python3"
    },
    "language_info": {
      "name": "python"
    }
  },
  "nbformat": 4,
  "nbformat_minor": 0
}
