{
  "cells": [
    {
      "cell_type": "markdown",
      "metadata": {
        "id": "view-in-github",
        "colab_type": "text"
      },
      "source": [
        "<a href=\"https://colab.research.google.com/github/q4quang/AIO-2024/blob/feature/auto_mpg.ipynb\" target=\"_parent\"><img src=\"https://colab.research.google.com/assets/colab-badge.svg\" alt=\"Open In Colab\"/></a>"
      ]
    },
    {
      "cell_type": "markdown",
      "metadata": {
        "id": "0HVlBSv9-91d"
      },
      "source": [
        "### Download Dataset"
      ]
    },
    {
      "cell_type": "code",
      "execution_count": 1,
      "metadata": {
        "colab": {
          "base_uri": "https://localhost:8080/"
        },
        "id": "r8s9mU23-91g",
        "outputId": "c7381796-146e-4813-bc93-7bb081f87733"
      },
      "outputs": [
        {
          "output_type": "stream",
          "name": "stdout",
          "text": [
            "/usr/local/lib/python3.10/dist-packages/gdown/__main__.py:140: FutureWarning: Option `--id` was deprecated in version 4.3.1 and will be removed in 5.0. You don't need to pass it anymore to use a file ID.\n",
            "  warnings.warn(\n",
            "Downloading...\n",
            "From: https://drive.google.com/uc?id=1qiUDDoYyRLBiKOoYWdFl_5WByHE8Cugu\n",
            "To: /content/Auto_MPG_data.csv\n",
            "100% 15.4k/15.4k [00:00<00:00, 27.2MB/s]\n"
          ]
        }
      ],
      "source": [
        "!gdown --id 1qiUDDoYyRLBiKOoYWdFl_5WByHE8Cugu"
      ]
    },
    {
      "cell_type": "code",
      "execution_count": 2,
      "metadata": {
        "id": "rGP1hbcp-91i"
      },
      "outputs": [],
      "source": [
        "!mkdir data\n",
        "!mv Auto_MPG_data.csv data/Auto_MPG_data.csv"
      ]
    },
    {
      "cell_type": "markdown",
      "metadata": {
        "id": "_0fX0DP0-91i"
      },
      "source": [
        "### Import Libraries"
      ]
    },
    {
      "cell_type": "code",
      "execution_count": 3,
      "metadata": {
        "id": "UOktes-N-91j"
      },
      "outputs": [],
      "source": [
        "import numpy as np\n",
        "import pandas as pd\n",
        "import matplotlib.pyplot as plt\n",
        "import torch\n",
        "import torch.nn as nn\n",
        "import torch.nn.functional as F\n",
        "from torch.utils.data import Dataset, DataLoader\n",
        "\n",
        "from sklearn.model_selection import train_test_split\n",
        "from sklearn.preprocessing import StandardScaler"
      ]
    },
    {
      "cell_type": "code",
      "execution_count": 4,
      "metadata": {
        "id": "YZfQLCv9-91k"
      },
      "outputs": [],
      "source": [
        "random_seed = 59\n",
        "np.random.seed(random_seed)\n",
        "torch.manual_seed(random_seed)\n",
        "if torch.cuda.is_available():\n",
        "    torch.cuda.manual_seed(random_seed)"
      ]
    },
    {
      "cell_type": "code",
      "execution_count": 5,
      "metadata": {
        "colab": {
          "base_uri": "https://localhost:8080/"
        },
        "id": "7hx5geZY-91l",
        "outputId": "35266b87-761c-49d5-fed3-2439b5d29b65"
      },
      "outputs": [
        {
          "output_type": "execute_result",
          "data": {
            "text/plain": [
              "device(type='cpu')"
            ]
          },
          "metadata": {},
          "execution_count": 5
        }
      ],
      "source": [
        "device = torch.device('cuda' if torch.cuda.is_available() else 'cpu')\n",
        "device"
      ]
    },
    {
      "cell_type": "markdown",
      "metadata": {
        "id": "CWtO8Cie-91m"
      },
      "source": [
        "### Read Dataset"
      ]
    },
    {
      "cell_type": "code",
      "execution_count": 6,
      "metadata": {
        "colab": {
          "base_uri": "https://localhost:8080/",
          "height": 424
        },
        "id": "8JEZEHmw-91m",
        "outputId": "385861ac-606f-4ad0-da67-5d59abcd9602"
      },
      "outputs": [
        {
          "output_type": "execute_result",
          "data": {
            "text/plain": [
              "      MPG  Cylinders  Displacement  Horsepower  Weight  Acceleration  \\\n",
              "0    18.0          8         307.0       130.0  3504.0          12.0   \n",
              "1    15.0          8         350.0       165.0  3693.0          11.5   \n",
              "2    18.0          8         318.0       150.0  3436.0          11.0   \n",
              "3    16.0          8         304.0       150.0  3433.0          12.0   \n",
              "4    17.0          8         302.0       140.0  3449.0          10.5   \n",
              "..    ...        ...           ...         ...     ...           ...   \n",
              "387  27.0          4         140.0        86.0  2790.0          15.6   \n",
              "388  44.0          4          97.0        52.0  2130.0          24.6   \n",
              "389  32.0          4         135.0        84.0  2295.0          11.6   \n",
              "390  28.0          4         120.0        79.0  2625.0          18.6   \n",
              "391  31.0          4         119.0        82.0  2720.0          19.4   \n",
              "\n",
              "     Model Year  Europe  Japan  USA  \n",
              "0            70       0      0    1  \n",
              "1            70       0      0    1  \n",
              "2            70       0      0    1  \n",
              "3            70       0      0    1  \n",
              "4            70       0      0    1  \n",
              "..          ...     ...    ...  ...  \n",
              "387          82       0      0    1  \n",
              "388          82       1      0    0  \n",
              "389          82       0      0    1  \n",
              "390          82       0      0    1  \n",
              "391          82       0      0    1  \n",
              "\n",
              "[392 rows x 10 columns]"
            ],
            "text/html": [
              "\n",
              "  <div id=\"df-06bd8c74-a290-4809-ac57-5661be39f5b3\" class=\"colab-df-container\">\n",
              "    <div>\n",
              "<style scoped>\n",
              "    .dataframe tbody tr th:only-of-type {\n",
              "        vertical-align: middle;\n",
              "    }\n",
              "\n",
              "    .dataframe tbody tr th {\n",
              "        vertical-align: top;\n",
              "    }\n",
              "\n",
              "    .dataframe thead th {\n",
              "        text-align: right;\n",
              "    }\n",
              "</style>\n",
              "<table border=\"1\" class=\"dataframe\">\n",
              "  <thead>\n",
              "    <tr style=\"text-align: right;\">\n",
              "      <th></th>\n",
              "      <th>MPG</th>\n",
              "      <th>Cylinders</th>\n",
              "      <th>Displacement</th>\n",
              "      <th>Horsepower</th>\n",
              "      <th>Weight</th>\n",
              "      <th>Acceleration</th>\n",
              "      <th>Model Year</th>\n",
              "      <th>Europe</th>\n",
              "      <th>Japan</th>\n",
              "      <th>USA</th>\n",
              "    </tr>\n",
              "  </thead>\n",
              "  <tbody>\n",
              "    <tr>\n",
              "      <th>0</th>\n",
              "      <td>18.0</td>\n",
              "      <td>8</td>\n",
              "      <td>307.0</td>\n",
              "      <td>130.0</td>\n",
              "      <td>3504.0</td>\n",
              "      <td>12.0</td>\n",
              "      <td>70</td>\n",
              "      <td>0</td>\n",
              "      <td>0</td>\n",
              "      <td>1</td>\n",
              "    </tr>\n",
              "    <tr>\n",
              "      <th>1</th>\n",
              "      <td>15.0</td>\n",
              "      <td>8</td>\n",
              "      <td>350.0</td>\n",
              "      <td>165.0</td>\n",
              "      <td>3693.0</td>\n",
              "      <td>11.5</td>\n",
              "      <td>70</td>\n",
              "      <td>0</td>\n",
              "      <td>0</td>\n",
              "      <td>1</td>\n",
              "    </tr>\n",
              "    <tr>\n",
              "      <th>2</th>\n",
              "      <td>18.0</td>\n",
              "      <td>8</td>\n",
              "      <td>318.0</td>\n",
              "      <td>150.0</td>\n",
              "      <td>3436.0</td>\n",
              "      <td>11.0</td>\n",
              "      <td>70</td>\n",
              "      <td>0</td>\n",
              "      <td>0</td>\n",
              "      <td>1</td>\n",
              "    </tr>\n",
              "    <tr>\n",
              "      <th>3</th>\n",
              "      <td>16.0</td>\n",
              "      <td>8</td>\n",
              "      <td>304.0</td>\n",
              "      <td>150.0</td>\n",
              "      <td>3433.0</td>\n",
              "      <td>12.0</td>\n",
              "      <td>70</td>\n",
              "      <td>0</td>\n",
              "      <td>0</td>\n",
              "      <td>1</td>\n",
              "    </tr>\n",
              "    <tr>\n",
              "      <th>4</th>\n",
              "      <td>17.0</td>\n",
              "      <td>8</td>\n",
              "      <td>302.0</td>\n",
              "      <td>140.0</td>\n",
              "      <td>3449.0</td>\n",
              "      <td>10.5</td>\n",
              "      <td>70</td>\n",
              "      <td>0</td>\n",
              "      <td>0</td>\n",
              "      <td>1</td>\n",
              "    </tr>\n",
              "    <tr>\n",
              "      <th>...</th>\n",
              "      <td>...</td>\n",
              "      <td>...</td>\n",
              "      <td>...</td>\n",
              "      <td>...</td>\n",
              "      <td>...</td>\n",
              "      <td>...</td>\n",
              "      <td>...</td>\n",
              "      <td>...</td>\n",
              "      <td>...</td>\n",
              "      <td>...</td>\n",
              "    </tr>\n",
              "    <tr>\n",
              "      <th>387</th>\n",
              "      <td>27.0</td>\n",
              "      <td>4</td>\n",
              "      <td>140.0</td>\n",
              "      <td>86.0</td>\n",
              "      <td>2790.0</td>\n",
              "      <td>15.6</td>\n",
              "      <td>82</td>\n",
              "      <td>0</td>\n",
              "      <td>0</td>\n",
              "      <td>1</td>\n",
              "    </tr>\n",
              "    <tr>\n",
              "      <th>388</th>\n",
              "      <td>44.0</td>\n",
              "      <td>4</td>\n",
              "      <td>97.0</td>\n",
              "      <td>52.0</td>\n",
              "      <td>2130.0</td>\n",
              "      <td>24.6</td>\n",
              "      <td>82</td>\n",
              "      <td>1</td>\n",
              "      <td>0</td>\n",
              "      <td>0</td>\n",
              "    </tr>\n",
              "    <tr>\n",
              "      <th>389</th>\n",
              "      <td>32.0</td>\n",
              "      <td>4</td>\n",
              "      <td>135.0</td>\n",
              "      <td>84.0</td>\n",
              "      <td>2295.0</td>\n",
              "      <td>11.6</td>\n",
              "      <td>82</td>\n",
              "      <td>0</td>\n",
              "      <td>0</td>\n",
              "      <td>1</td>\n",
              "    </tr>\n",
              "    <tr>\n",
              "      <th>390</th>\n",
              "      <td>28.0</td>\n",
              "      <td>4</td>\n",
              "      <td>120.0</td>\n",
              "      <td>79.0</td>\n",
              "      <td>2625.0</td>\n",
              "      <td>18.6</td>\n",
              "      <td>82</td>\n",
              "      <td>0</td>\n",
              "      <td>0</td>\n",
              "      <td>1</td>\n",
              "    </tr>\n",
              "    <tr>\n",
              "      <th>391</th>\n",
              "      <td>31.0</td>\n",
              "      <td>4</td>\n",
              "      <td>119.0</td>\n",
              "      <td>82.0</td>\n",
              "      <td>2720.0</td>\n",
              "      <td>19.4</td>\n",
              "      <td>82</td>\n",
              "      <td>0</td>\n",
              "      <td>0</td>\n",
              "      <td>1</td>\n",
              "    </tr>\n",
              "  </tbody>\n",
              "</table>\n",
              "<p>392 rows × 10 columns</p>\n",
              "</div>\n",
              "    <div class=\"colab-df-buttons\">\n",
              "\n",
              "  <div class=\"colab-df-container\">\n",
              "    <button class=\"colab-df-convert\" onclick=\"convertToInteractive('df-06bd8c74-a290-4809-ac57-5661be39f5b3')\"\n",
              "            title=\"Convert this dataframe to an interactive table.\"\n",
              "            style=\"display:none;\">\n",
              "\n",
              "  <svg xmlns=\"http://www.w3.org/2000/svg\" height=\"24px\" viewBox=\"0 -960 960 960\">\n",
              "    <path d=\"M120-120v-720h720v720H120Zm60-500h600v-160H180v160Zm220 220h160v-160H400v160Zm0 220h160v-160H400v160ZM180-400h160v-160H180v160Zm440 0h160v-160H620v160ZM180-180h160v-160H180v160Zm440 0h160v-160H620v160Z\"/>\n",
              "  </svg>\n",
              "    </button>\n",
              "\n",
              "  <style>\n",
              "    .colab-df-container {\n",
              "      display:flex;\n",
              "      gap: 12px;\n",
              "    }\n",
              "\n",
              "    .colab-df-convert {\n",
              "      background-color: #E8F0FE;\n",
              "      border: none;\n",
              "      border-radius: 50%;\n",
              "      cursor: pointer;\n",
              "      display: none;\n",
              "      fill: #1967D2;\n",
              "      height: 32px;\n",
              "      padding: 0 0 0 0;\n",
              "      width: 32px;\n",
              "    }\n",
              "\n",
              "    .colab-df-convert:hover {\n",
              "      background-color: #E2EBFA;\n",
              "      box-shadow: 0px 1px 2px rgba(60, 64, 67, 0.3), 0px 1px 3px 1px rgba(60, 64, 67, 0.15);\n",
              "      fill: #174EA6;\n",
              "    }\n",
              "\n",
              "    .colab-df-buttons div {\n",
              "      margin-bottom: 4px;\n",
              "    }\n",
              "\n",
              "    [theme=dark] .colab-df-convert {\n",
              "      background-color: #3B4455;\n",
              "      fill: #D2E3FC;\n",
              "    }\n",
              "\n",
              "    [theme=dark] .colab-df-convert:hover {\n",
              "      background-color: #434B5C;\n",
              "      box-shadow: 0px 1px 3px 1px rgba(0, 0, 0, 0.15);\n",
              "      filter: drop-shadow(0px 1px 2px rgba(0, 0, 0, 0.3));\n",
              "      fill: #FFFFFF;\n",
              "    }\n",
              "  </style>\n",
              "\n",
              "    <script>\n",
              "      const buttonEl =\n",
              "        document.querySelector('#df-06bd8c74-a290-4809-ac57-5661be39f5b3 button.colab-df-convert');\n",
              "      buttonEl.style.display =\n",
              "        google.colab.kernel.accessAllowed ? 'block' : 'none';\n",
              "\n",
              "      async function convertToInteractive(key) {\n",
              "        const element = document.querySelector('#df-06bd8c74-a290-4809-ac57-5661be39f5b3');\n",
              "        const dataTable =\n",
              "          await google.colab.kernel.invokeFunction('convertToInteractive',\n",
              "                                                    [key], {});\n",
              "        if (!dataTable) return;\n",
              "\n",
              "        const docLinkHtml = 'Like what you see? Visit the ' +\n",
              "          '<a target=\"_blank\" href=https://colab.research.google.com/notebooks/data_table.ipynb>data table notebook</a>'\n",
              "          + ' to learn more about interactive tables.';\n",
              "        element.innerHTML = '';\n",
              "        dataTable['output_type'] = 'display_data';\n",
              "        await google.colab.output.renderOutput(dataTable, element);\n",
              "        const docLink = document.createElement('div');\n",
              "        docLink.innerHTML = docLinkHtml;\n",
              "        element.appendChild(docLink);\n",
              "      }\n",
              "    </script>\n",
              "  </div>\n",
              "\n",
              "\n",
              "<div id=\"df-590237c7-73bd-46c9-96b7-ac1140a60213\">\n",
              "  <button class=\"colab-df-quickchart\" onclick=\"quickchart('df-590237c7-73bd-46c9-96b7-ac1140a60213')\"\n",
              "            title=\"Suggest charts\"\n",
              "            style=\"display:none;\">\n",
              "\n",
              "<svg xmlns=\"http://www.w3.org/2000/svg\" height=\"24px\"viewBox=\"0 0 24 24\"\n",
              "     width=\"24px\">\n",
              "    <g>\n",
              "        <path d=\"M19 3H5c-1.1 0-2 .9-2 2v14c0 1.1.9 2 2 2h14c1.1 0 2-.9 2-2V5c0-1.1-.9-2-2-2zM9 17H7v-7h2v7zm4 0h-2V7h2v10zm4 0h-2v-4h2v4z\"/>\n",
              "    </g>\n",
              "</svg>\n",
              "  </button>\n",
              "\n",
              "<style>\n",
              "  .colab-df-quickchart {\n",
              "      --bg-color: #E8F0FE;\n",
              "      --fill-color: #1967D2;\n",
              "      --hover-bg-color: #E2EBFA;\n",
              "      --hover-fill-color: #174EA6;\n",
              "      --disabled-fill-color: #AAA;\n",
              "      --disabled-bg-color: #DDD;\n",
              "  }\n",
              "\n",
              "  [theme=dark] .colab-df-quickchart {\n",
              "      --bg-color: #3B4455;\n",
              "      --fill-color: #D2E3FC;\n",
              "      --hover-bg-color: #434B5C;\n",
              "      --hover-fill-color: #FFFFFF;\n",
              "      --disabled-bg-color: #3B4455;\n",
              "      --disabled-fill-color: #666;\n",
              "  }\n",
              "\n",
              "  .colab-df-quickchart {\n",
              "    background-color: var(--bg-color);\n",
              "    border: none;\n",
              "    border-radius: 50%;\n",
              "    cursor: pointer;\n",
              "    display: none;\n",
              "    fill: var(--fill-color);\n",
              "    height: 32px;\n",
              "    padding: 0;\n",
              "    width: 32px;\n",
              "  }\n",
              "\n",
              "  .colab-df-quickchart:hover {\n",
              "    background-color: var(--hover-bg-color);\n",
              "    box-shadow: 0 1px 2px rgba(60, 64, 67, 0.3), 0 1px 3px 1px rgba(60, 64, 67, 0.15);\n",
              "    fill: var(--button-hover-fill-color);\n",
              "  }\n",
              "\n",
              "  .colab-df-quickchart-complete:disabled,\n",
              "  .colab-df-quickchart-complete:disabled:hover {\n",
              "    background-color: var(--disabled-bg-color);\n",
              "    fill: var(--disabled-fill-color);\n",
              "    box-shadow: none;\n",
              "  }\n",
              "\n",
              "  .colab-df-spinner {\n",
              "    border: 2px solid var(--fill-color);\n",
              "    border-color: transparent;\n",
              "    border-bottom-color: var(--fill-color);\n",
              "    animation:\n",
              "      spin 1s steps(1) infinite;\n",
              "  }\n",
              "\n",
              "  @keyframes spin {\n",
              "    0% {\n",
              "      border-color: transparent;\n",
              "      border-bottom-color: var(--fill-color);\n",
              "      border-left-color: var(--fill-color);\n",
              "    }\n",
              "    20% {\n",
              "      border-color: transparent;\n",
              "      border-left-color: var(--fill-color);\n",
              "      border-top-color: var(--fill-color);\n",
              "    }\n",
              "    30% {\n",
              "      border-color: transparent;\n",
              "      border-left-color: var(--fill-color);\n",
              "      border-top-color: var(--fill-color);\n",
              "      border-right-color: var(--fill-color);\n",
              "    }\n",
              "    40% {\n",
              "      border-color: transparent;\n",
              "      border-right-color: var(--fill-color);\n",
              "      border-top-color: var(--fill-color);\n",
              "    }\n",
              "    60% {\n",
              "      border-color: transparent;\n",
              "      border-right-color: var(--fill-color);\n",
              "    }\n",
              "    80% {\n",
              "      border-color: transparent;\n",
              "      border-right-color: var(--fill-color);\n",
              "      border-bottom-color: var(--fill-color);\n",
              "    }\n",
              "    90% {\n",
              "      border-color: transparent;\n",
              "      border-bottom-color: var(--fill-color);\n",
              "    }\n",
              "  }\n",
              "</style>\n",
              "\n",
              "  <script>\n",
              "    async function quickchart(key) {\n",
              "      const quickchartButtonEl =\n",
              "        document.querySelector('#' + key + ' button');\n",
              "      quickchartButtonEl.disabled = true;  // To prevent multiple clicks.\n",
              "      quickchartButtonEl.classList.add('colab-df-spinner');\n",
              "      try {\n",
              "        const charts = await google.colab.kernel.invokeFunction(\n",
              "            'suggestCharts', [key], {});\n",
              "      } catch (error) {\n",
              "        console.error('Error during call to suggestCharts:', error);\n",
              "      }\n",
              "      quickchartButtonEl.classList.remove('colab-df-spinner');\n",
              "      quickchartButtonEl.classList.add('colab-df-quickchart-complete');\n",
              "    }\n",
              "    (() => {\n",
              "      let quickchartButtonEl =\n",
              "        document.querySelector('#df-590237c7-73bd-46c9-96b7-ac1140a60213 button');\n",
              "      quickchartButtonEl.style.display =\n",
              "        google.colab.kernel.accessAllowed ? 'block' : 'none';\n",
              "    })();\n",
              "  </script>\n",
              "</div>\n",
              "\n",
              "  <div id=\"id_28bce141-eede-4fae-a8e8-6a24b1b9d272\">\n",
              "    <style>\n",
              "      .colab-df-generate {\n",
              "        background-color: #E8F0FE;\n",
              "        border: none;\n",
              "        border-radius: 50%;\n",
              "        cursor: pointer;\n",
              "        display: none;\n",
              "        fill: #1967D2;\n",
              "        height: 32px;\n",
              "        padding: 0 0 0 0;\n",
              "        width: 32px;\n",
              "      }\n",
              "\n",
              "      .colab-df-generate:hover {\n",
              "        background-color: #E2EBFA;\n",
              "        box-shadow: 0px 1px 2px rgba(60, 64, 67, 0.3), 0px 1px 3px 1px rgba(60, 64, 67, 0.15);\n",
              "        fill: #174EA6;\n",
              "      }\n",
              "\n",
              "      [theme=dark] .colab-df-generate {\n",
              "        background-color: #3B4455;\n",
              "        fill: #D2E3FC;\n",
              "      }\n",
              "\n",
              "      [theme=dark] .colab-df-generate:hover {\n",
              "        background-color: #434B5C;\n",
              "        box-shadow: 0px 1px 3px 1px rgba(0, 0, 0, 0.15);\n",
              "        filter: drop-shadow(0px 1px 2px rgba(0, 0, 0, 0.3));\n",
              "        fill: #FFFFFF;\n",
              "      }\n",
              "    </style>\n",
              "    <button class=\"colab-df-generate\" onclick=\"generateWithVariable('dataset')\"\n",
              "            title=\"Generate code using this dataframe.\"\n",
              "            style=\"display:none;\">\n",
              "\n",
              "  <svg xmlns=\"http://www.w3.org/2000/svg\" height=\"24px\"viewBox=\"0 0 24 24\"\n",
              "       width=\"24px\">\n",
              "    <path d=\"M7,19H8.4L18.45,9,17,7.55,7,17.6ZM5,21V16.75L18.45,3.32a2,2,0,0,1,2.83,0l1.4,1.43a1.91,1.91,0,0,1,.58,1.4,1.91,1.91,0,0,1-.58,1.4L9.25,21ZM18.45,9,17,7.55Zm-12,3A5.31,5.31,0,0,0,4.9,8.1,5.31,5.31,0,0,0,1,6.5,5.31,5.31,0,0,0,4.9,4.9,5.31,5.31,0,0,0,6.5,1,5.31,5.31,0,0,0,8.1,4.9,5.31,5.31,0,0,0,12,6.5,5.46,5.46,0,0,0,6.5,12Z\"/>\n",
              "  </svg>\n",
              "    </button>\n",
              "    <script>\n",
              "      (() => {\n",
              "      const buttonEl =\n",
              "        document.querySelector('#id_28bce141-eede-4fae-a8e8-6a24b1b9d272 button.colab-df-generate');\n",
              "      buttonEl.style.display =\n",
              "        google.colab.kernel.accessAllowed ? 'block' : 'none';\n",
              "\n",
              "      buttonEl.onclick = () => {\n",
              "        google.colab.notebook.generateWithVariable('dataset');\n",
              "      }\n",
              "      })();\n",
              "    </script>\n",
              "  </div>\n",
              "\n",
              "    </div>\n",
              "  </div>\n"
            ],
            "application/vnd.google.colaboratory.intrinsic+json": {
              "type": "dataframe",
              "variable_name": "dataset",
              "summary": "{\n  \"name\": \"dataset\",\n  \"rows\": 392,\n  \"fields\": [\n    {\n      \"column\": \"MPG\",\n      \"properties\": {\n        \"dtype\": \"number\",\n        \"std\": 7.805007486571799,\n        \"min\": 9.0,\n        \"max\": 46.6,\n        \"num_unique_values\": 127,\n        \"samples\": [\n          17.5,\n          35.1,\n          28.8\n        ],\n        \"semantic_type\": \"\",\n        \"description\": \"\"\n      }\n    },\n    {\n      \"column\": \"Cylinders\",\n      \"properties\": {\n        \"dtype\": \"number\",\n        \"std\": 1,\n        \"min\": 3,\n        \"max\": 8,\n        \"num_unique_values\": 5,\n        \"samples\": [\n          4,\n          5,\n          6\n        ],\n        \"semantic_type\": \"\",\n        \"description\": \"\"\n      }\n    },\n    {\n      \"column\": \"Displacement\",\n      \"properties\": {\n        \"dtype\": \"number\",\n        \"std\": 104.64400390890465,\n        \"min\": 68.0,\n        \"max\": 455.0,\n        \"num_unique_values\": 81,\n        \"samples\": [\n          116.0,\n          307.0,\n          360.0\n        ],\n        \"semantic_type\": \"\",\n        \"description\": \"\"\n      }\n    },\n    {\n      \"column\": \"Horsepower\",\n      \"properties\": {\n        \"dtype\": \"number\",\n        \"std\": 38.49115993282855,\n        \"min\": 46.0,\n        \"max\": 230.0,\n        \"num_unique_values\": 93,\n        \"samples\": [\n          92.0,\n          100.0,\n          52.0\n        ],\n        \"semantic_type\": \"\",\n        \"description\": \"\"\n      }\n    },\n    {\n      \"column\": \"Weight\",\n      \"properties\": {\n        \"dtype\": \"number\",\n        \"std\": 849.4025600429494,\n        \"min\": 1613.0,\n        \"max\": 5140.0,\n        \"num_unique_values\": 346,\n        \"samples\": [\n          2472.0,\n          3221.0,\n          2700.0\n        ],\n        \"semantic_type\": \"\",\n        \"description\": \"\"\n      }\n    },\n    {\n      \"column\": \"Acceleration\",\n      \"properties\": {\n        \"dtype\": \"number\",\n        \"std\": 2.7588641191880816,\n        \"min\": 8.0,\n        \"max\": 24.8,\n        \"num_unique_values\": 95,\n        \"samples\": [\n          14.7,\n          18.0,\n          14.3\n        ],\n        \"semantic_type\": \"\",\n        \"description\": \"\"\n      }\n    },\n    {\n      \"column\": \"Model Year\",\n      \"properties\": {\n        \"dtype\": \"number\",\n        \"std\": 3,\n        \"min\": 70,\n        \"max\": 82,\n        \"num_unique_values\": 13,\n        \"samples\": [\n          81,\n          79,\n          70\n        ],\n        \"semantic_type\": \"\",\n        \"description\": \"\"\n      }\n    },\n    {\n      \"column\": \"Europe\",\n      \"properties\": {\n        \"dtype\": \"number\",\n        \"std\": 0,\n        \"min\": 0,\n        \"max\": 1,\n        \"num_unique_values\": 2,\n        \"samples\": [\n          1,\n          0\n        ],\n        \"semantic_type\": \"\",\n        \"description\": \"\"\n      }\n    },\n    {\n      \"column\": \"Japan\",\n      \"properties\": {\n        \"dtype\": \"number\",\n        \"std\": 0,\n        \"min\": 0,\n        \"max\": 1,\n        \"num_unique_values\": 2,\n        \"samples\": [\n          1,\n          0\n        ],\n        \"semantic_type\": \"\",\n        \"description\": \"\"\n      }\n    },\n    {\n      \"column\": \"USA\",\n      \"properties\": {\n        \"dtype\": \"number\",\n        \"std\": 0,\n        \"min\": 0,\n        \"max\": 1,\n        \"num_unique_values\": 2,\n        \"samples\": [\n          0,\n          1\n        ],\n        \"semantic_type\": \"\",\n        \"description\": \"\"\n      }\n    }\n  ]\n}"
            }
          },
          "metadata": {},
          "execution_count": 6
        }
      ],
      "source": [
        "dataset_path = 'data/Auto_MPG_data.csv'\n",
        "dataset = pd.read_csv(dataset_path)\n",
        "dataset"
      ]
    },
    {
      "cell_type": "markdown",
      "metadata": {
        "id": "NJr3lMqO-91n"
      },
      "source": [
        "#### Preprocess"
      ]
    },
    {
      "cell_type": "code",
      "execution_count": 7,
      "metadata": {
        "id": "6FWGpO_S-91n"
      },
      "outputs": [],
      "source": [
        "X = dataset.drop(columns='MPG').values\n",
        "y = dataset['MPG'].values"
      ]
    },
    {
      "cell_type": "code",
      "execution_count": 8,
      "metadata": {
        "colab": {
          "base_uri": "https://localhost:8080/"
        },
        "id": "fZhL599l-91n",
        "outputId": "36c77871-865f-45a9-b4e5-045d9dc4dd33"
      },
      "outputs": [
        {
          "output_type": "stream",
          "name": "stdout",
          "text": [
            "(273, 9)\n",
            "(79, 9)\n",
            "(40, 9)\n"
          ]
        }
      ],
      "source": [
        "val_size = 0.2\n",
        "test_size = 0.125\n",
        "is_shuffle = True\n",
        "\n",
        "X_train, X_val, y_train, y_val = train_test_split(\n",
        "    X, y,\n",
        "    test_size=val_size,\n",
        "    random_state=random_seed,\n",
        "    shuffle=is_shuffle\n",
        ")\n",
        "\n",
        "X_train, X_test, y_train, y_test = train_test_split(\n",
        "    X_train, y_train,\n",
        "    test_size=test_size,\n",
        "    random_state=random_seed,\n",
        "    shuffle=is_shuffle\n",
        ")\n",
        "\n",
        "print(X_train.shape)\n",
        "print(X_val.shape)\n",
        "print(X_test.shape)"
      ]
    },
    {
      "cell_type": "code",
      "execution_count": 9,
      "metadata": {
        "id": "el7qTDXA-91o"
      },
      "outputs": [],
      "source": [
        "normalizer = StandardScaler()\n",
        "X_train = normalizer.fit_transform(X_train)\n",
        "X_val = normalizer.transform(X_val)\n",
        "X_test = normalizer.transform(X_test)\n",
        "\n",
        "X_train = torch.tensor(X_train, dtype=torch.float32)\n",
        "y_train = torch.tensor(y_train, dtype=torch.float32)\n",
        "X_val = torch.tensor(X_val, dtype=torch.float32)\n",
        "y_val = torch.tensor(y_val, dtype=torch.float32)\n",
        "X_test = torch.tensor(X_test, dtype=torch.float32)\n",
        "y_test = torch.tensor(y_test, dtype=torch.float32)"
      ]
    },
    {
      "cell_type": "markdown",
      "metadata": {
        "id": "r2kqtqEx-91o"
      },
      "source": [
        "### Create PyTorch DataLoader"
      ]
    },
    {
      "cell_type": "code",
      "execution_count": 10,
      "metadata": {
        "id": "gw6-6MXo-91p"
      },
      "outputs": [],
      "source": [
        "class CustomDataset(Dataset):\n",
        "    def __init__(self, X, y):\n",
        "        self.X = X\n",
        "        self.y = y\n",
        "\n",
        "    def __len__(self):\n",
        "        return len(self.X)\n",
        "\n",
        "    def __getitem__(self, idx):\n",
        "        return self.X[idx], self.y[idx]"
      ]
    },
    {
      "cell_type": "code",
      "execution_count": 11,
      "metadata": {
        "id": "HkmQRjw0-91p"
      },
      "outputs": [],
      "source": [
        "batch_size = 32\n",
        "train_dataset = CustomDataset(X_train, y_train)\n",
        "train_loader = DataLoader(train_dataset, batch_size=batch_size, shuffle=True)\n",
        "\n",
        "val_dataset = CustomDataset(X_val, y_val)\n",
        "val_loader = DataLoader(val_dataset, batch_size=batch_size, shuffle=False)"
      ]
    },
    {
      "cell_type": "markdown",
      "metadata": {
        "id": "oyQ3wMQs-91p"
      },
      "source": [
        "### Build MLP Network"
      ]
    },
    {
      "cell_type": "code",
      "execution_count": 12,
      "metadata": {
        "id": "FpND-vJS-91p"
      },
      "outputs": [],
      "source": [
        "class MLP(nn.Module):\n",
        "    def __init__(self, input_dim, hidden_dim, output_dim):\n",
        "        super().__init__()\n",
        "        self.linear1 = nn.Linear(input_dim, hidden_dim)\n",
        "        self.linear2 = nn.Linear(hidden_dim, hidden_dim)\n",
        "        self.output = nn.Linear(hidden_dim, output_dim)\n",
        "\n",
        "    def forward(self, x):\n",
        "        x = F.relu(self.linear1(x))\n",
        "        x = F.relu(self.linear2(x))\n",
        "        x = self.output(x)\n",
        "        return x.squeeze(1)"
      ]
    },
    {
      "cell_type": "code",
      "execution_count": 13,
      "metadata": {
        "id": "oapfGSN0-91q"
      },
      "outputs": [],
      "source": [
        "input_dim = X_train.shape[1]\n",
        "output_dim = 1\n",
        "hidden_dim = 64\n",
        "\n",
        "model = MLP(input_dim=input_dim,\n",
        "            hidden_dim=hidden_dim,\n",
        "            output_dim=output_dim).to(device)"
      ]
    },
    {
      "cell_type": "code",
      "execution_count": 14,
      "metadata": {
        "id": "7GxnG9VI-91q"
      },
      "outputs": [],
      "source": [
        "lr = 1e-2\n",
        "criterion = nn.MSELoss()\n",
        "optimizer = torch.optim.SGD(model.parameters(), lr=lr)"
      ]
    },
    {
      "cell_type": "code",
      "execution_count": 15,
      "metadata": {
        "id": "cFlidN3S-91q"
      },
      "outputs": [],
      "source": [
        "def r_squared(y, y_pred):\n",
        "    y = torch.Tensor(y).to(device)\n",
        "    y_pred = torch.Tensor(y_pred).to(device)\n",
        "    y_mean = torch.mean(y)\n",
        "    ss_tot = torch.sum((y - y_mean) ** 2)\n",
        "    ss_res = torch.sum((y - y_pred) ** 2)\n",
        "    r2 = 1 - ss_res / ss_tot\n",
        "    return r2"
      ]
    },
    {
      "cell_type": "markdown",
      "metadata": {
        "id": "W1PRV3Wf-91q"
      },
      "source": [
        "### Train"
      ]
    },
    {
      "cell_type": "code",
      "execution_count": 16,
      "metadata": {
        "colab": {
          "base_uri": "https://localhost:8080/"
        },
        "id": "LTy1Grhx-91q",
        "outputId": "937fcc0d-0a46-4bf5-d657-3c6861b95d0a"
      },
      "outputs": [
        {
          "output_type": "stream",
          "name": "stdout",
          "text": [
            "Epoch 1/100:\ttrain_loss: 282.769\tval_loss: 88.672\n",
            "Epoch 2/100:\ttrain_loss: 137.669\tval_loss: 72.346\n",
            "Epoch 3/100:\ttrain_loss: 71.007\tval_loss: 19.143\n",
            "Epoch 4/100:\ttrain_loss: 25.083\tval_loss: 196.176\n",
            "Epoch 5/100:\ttrain_loss: 96.139\tval_loss: 20.444\n",
            "Epoch 6/100:\ttrain_loss: 17.765\tval_loss: 9.444\n",
            "Epoch 7/100:\ttrain_loss: 18.486\tval_loss: 14.535\n",
            "Epoch 8/100:\ttrain_loss: 37.859\tval_loss: 37.427\n",
            "Epoch 9/100:\ttrain_loss: 17.133\tval_loss: 38.134\n",
            "Epoch 10/100:\ttrain_loss: 22.991\tval_loss: 41.183\n",
            "Epoch 11/100:\ttrain_loss: 26.723\tval_loss: 20.063\n",
            "Epoch 12/100:\ttrain_loss: 9.852\tval_loss: 5.594\n",
            "Epoch 13/100:\ttrain_loss: 15.143\tval_loss: 16.025\n",
            "Epoch 14/100:\ttrain_loss: 12.213\tval_loss: 12.023\n",
            "Epoch 15/100:\ttrain_loss: 14.222\tval_loss: 7.731\n",
            "Epoch 16/100:\ttrain_loss: 10.845\tval_loss: 18.904\n",
            "Epoch 17/100:\ttrain_loss: 12.312\tval_loss: 14.885\n",
            "Epoch 18/100:\ttrain_loss: 15.474\tval_loss: 12.354\n",
            "Epoch 19/100:\ttrain_loss: 13.783\tval_loss: 5.380\n",
            "Epoch 20/100:\ttrain_loss: 7.285\tval_loss: 5.100\n",
            "Epoch 21/100:\ttrain_loss: 8.168\tval_loss: 4.832\n",
            "Epoch 22/100:\ttrain_loss: 6.277\tval_loss: 5.236\n",
            "Epoch 23/100:\ttrain_loss: 10.050\tval_loss: 50.349\n",
            "Epoch 24/100:\ttrain_loss: 10.607\tval_loss: 15.387\n",
            "Epoch 25/100:\ttrain_loss: 9.235\tval_loss: 8.590\n",
            "Epoch 26/100:\ttrain_loss: 9.764\tval_loss: 6.845\n",
            "Epoch 27/100:\ttrain_loss: 6.272\tval_loss: 6.215\n",
            "Epoch 28/100:\ttrain_loss: 10.287\tval_loss: 5.041\n",
            "Epoch 29/100:\ttrain_loss: 6.383\tval_loss: 11.531\n",
            "Epoch 30/100:\ttrain_loss: 17.039\tval_loss: 4.781\n",
            "Epoch 31/100:\ttrain_loss: 7.879\tval_loss: 5.786\n",
            "Epoch 32/100:\ttrain_loss: 6.630\tval_loss: 6.206\n",
            "Epoch 33/100:\ttrain_loss: 7.156\tval_loss: 4.626\n",
            "Epoch 34/100:\ttrain_loss: 6.758\tval_loss: 6.483\n",
            "Epoch 35/100:\ttrain_loss: 7.450\tval_loss: 6.463\n",
            "Epoch 36/100:\ttrain_loss: 5.831\tval_loss: 5.967\n",
            "Epoch 37/100:\ttrain_loss: 5.947\tval_loss: 6.008\n",
            "Epoch 38/100:\ttrain_loss: 7.273\tval_loss: 10.705\n",
            "Epoch 39/100:\ttrain_loss: 7.611\tval_loss: 14.612\n",
            "Epoch 40/100:\ttrain_loss: 7.478\tval_loss: 5.625\n",
            "Epoch 41/100:\ttrain_loss: 5.840\tval_loss: 20.782\n",
            "Epoch 42/100:\ttrain_loss: 8.010\tval_loss: 5.530\n",
            "Epoch 43/100:\ttrain_loss: 7.096\tval_loss: 28.658\n",
            "Epoch 44/100:\ttrain_loss: 10.015\tval_loss: 10.240\n",
            "Epoch 45/100:\ttrain_loss: 6.435\tval_loss: 4.911\n",
            "Epoch 46/100:\ttrain_loss: 8.238\tval_loss: 7.057\n",
            "Epoch 47/100:\ttrain_loss: 6.315\tval_loss: 6.785\n",
            "Epoch 48/100:\ttrain_loss: 5.323\tval_loss: 6.720\n",
            "Epoch 49/100:\ttrain_loss: 6.652\tval_loss: 9.927\n",
            "Epoch 50/100:\ttrain_loss: 6.583\tval_loss: 12.207\n",
            "Epoch 51/100:\ttrain_loss: 8.147\tval_loss: 7.704\n",
            "Epoch 52/100:\ttrain_loss: 10.966\tval_loss: 5.014\n",
            "Epoch 53/100:\ttrain_loss: 7.193\tval_loss: 4.809\n",
            "Epoch 54/100:\ttrain_loss: 6.586\tval_loss: 5.283\n",
            "Epoch 55/100:\ttrain_loss: 5.428\tval_loss: 5.254\n",
            "Epoch 56/100:\ttrain_loss: 5.410\tval_loss: 6.241\n",
            "Epoch 57/100:\ttrain_loss: 7.397\tval_loss: 7.304\n",
            "Epoch 58/100:\ttrain_loss: 6.877\tval_loss: 19.924\n",
            "Epoch 59/100:\ttrain_loss: 7.607\tval_loss: 6.910\n",
            "Epoch 60/100:\ttrain_loss: 5.577\tval_loss: 4.655\n",
            "Epoch 61/100:\ttrain_loss: 5.597\tval_loss: 9.228\n",
            "Epoch 62/100:\ttrain_loss: 11.281\tval_loss: 4.500\n",
            "Epoch 63/100:\ttrain_loss: 6.602\tval_loss: 13.699\n",
            "Epoch 64/100:\ttrain_loss: 6.271\tval_loss: 6.322\n",
            "Epoch 65/100:\ttrain_loss: 8.267\tval_loss: 5.209\n",
            "Epoch 66/100:\ttrain_loss: 5.305\tval_loss: 5.244\n",
            "Epoch 67/100:\ttrain_loss: 5.974\tval_loss: 6.119\n",
            "Epoch 68/100:\ttrain_loss: 10.930\tval_loss: 7.538\n",
            "Epoch 69/100:\ttrain_loss: 7.000\tval_loss: 9.098\n",
            "Epoch 70/100:\ttrain_loss: 6.188\tval_loss: 5.058\n",
            "Epoch 71/100:\ttrain_loss: 5.184\tval_loss: 4.528\n",
            "Epoch 72/100:\ttrain_loss: 5.927\tval_loss: 9.171\n",
            "Epoch 73/100:\ttrain_loss: 6.805\tval_loss: 9.461\n",
            "Epoch 74/100:\ttrain_loss: 6.086\tval_loss: 5.240\n",
            "Epoch 75/100:\ttrain_loss: 5.313\tval_loss: 16.254\n",
            "Epoch 76/100:\ttrain_loss: 7.395\tval_loss: 18.961\n",
            "Epoch 77/100:\ttrain_loss: 10.982\tval_loss: 7.603\n",
            "Epoch 78/100:\ttrain_loss: 6.881\tval_loss: 5.415\n",
            "Epoch 79/100:\ttrain_loss: 5.829\tval_loss: 10.532\n",
            "Epoch 80/100:\ttrain_loss: 8.031\tval_loss: 5.808\n",
            "Epoch 81/100:\ttrain_loss: 10.559\tval_loss: 5.661\n",
            "Epoch 82/100:\ttrain_loss: 5.536\tval_loss: 5.436\n",
            "Epoch 83/100:\ttrain_loss: 5.733\tval_loss: 8.689\n",
            "Epoch 84/100:\ttrain_loss: 5.447\tval_loss: 5.063\n",
            "Epoch 85/100:\ttrain_loss: 4.924\tval_loss: 6.608\n",
            "Epoch 86/100:\ttrain_loss: 4.733\tval_loss: 6.193\n",
            "Epoch 87/100:\ttrain_loss: 5.094\tval_loss: 7.785\n",
            "Epoch 88/100:\ttrain_loss: 5.322\tval_loss: 4.985\n",
            "Epoch 89/100:\ttrain_loss: 4.837\tval_loss: 5.246\n",
            "Epoch 90/100:\ttrain_loss: 6.566\tval_loss: 5.694\n",
            "Epoch 91/100:\ttrain_loss: 5.474\tval_loss: 8.742\n",
            "Epoch 92/100:\ttrain_loss: 7.184\tval_loss: 5.376\n",
            "Epoch 93/100:\ttrain_loss: 6.221\tval_loss: 5.282\n",
            "Epoch 94/100:\ttrain_loss: 9.373\tval_loss: 7.654\n",
            "Epoch 95/100:\ttrain_loss: 6.485\tval_loss: 5.797\n",
            "Epoch 96/100:\ttrain_loss: 8.487\tval_loss: 22.967\n",
            "Epoch 97/100:\ttrain_loss: 7.113\tval_loss: 11.046\n",
            "Epoch 98/100:\ttrain_loss: 7.269\tval_loss: 7.265\n",
            "Epoch 99/100:\ttrain_loss: 5.988\tval_loss: 5.091\n",
            "Epoch 100/100:\ttrain_loss: 6.082\tval_loss: 4.776\n"
          ]
        }
      ],
      "source": [
        "epochs = 100\n",
        "train_losses, val_losses, train_r2, val_r2 = [], [], [], []\n",
        "\n",
        "for epoch in range(epochs):\n",
        "    train_loss = 0.0\n",
        "    train_target, val_target, train_predict, val_predict = [], [], [], []\n",
        "\n",
        "    model.train()\n",
        "    for X_batch, y_batch in train_loader:\n",
        "        X_batch, y_batch = X_batch.to(device), y_batch.to(device)\n",
        "\n",
        "        optimizer.zero_grad()\n",
        "        y_pred = model(X_batch)\n",
        "        loss = criterion(y_pred, y_batch)\n",
        "        loss.backward()\n",
        "        optimizer.step()\n",
        "\n",
        "        train_loss += loss.item()\n",
        "        train_predict.extend(y_pred.tolist())\n",
        "        train_target.extend(y_batch.tolist())\n",
        "\n",
        "    train_loss /= len(train_loader)\n",
        "    train_losses.append(train_loss)\n",
        "    train_r2.append(r_squared(train_target, train_predict).item())\n",
        "\n",
        "    model.eval()\n",
        "    val_loss = 0.0\n",
        "    with torch.no_grad():\n",
        "        for X_batch, y_batch in val_loader:\n",
        "            X_batch, y_batch = X_batch.to(device), y_batch.to(device)\n",
        "\n",
        "            y_pred = model(X_batch)\n",
        "            loss = criterion(y_pred, y_batch)\n",
        "\n",
        "            val_loss += loss.item()\n",
        "            val_predict.extend(y_pred.tolist())\n",
        "            val_target.extend(y_batch.tolist())\n",
        "\n",
        "    val_loss /= len(val_loader)\n",
        "    val_losses.append(val_loss)\n",
        "    val_r2.append(r_squared(val_target, val_predict).item())\n",
        "\n",
        "    print(f'Epoch {epoch + 1}/{epochs}:\\ttrain_loss: {train_loss:.3f}\\tval_loss: {val_loss:.3f}')"
      ]
    },
    {
      "cell_type": "markdown",
      "metadata": {
        "id": "-pqBhxVB-91t"
      },
      "source": [
        "### Evaluation"
      ]
    },
    {
      "cell_type": "code",
      "execution_count": 17,
      "metadata": {
        "colab": {
          "base_uri": "https://localhost:8080/"
        },
        "id": "KEjA9qNE-91t",
        "outputId": "43cf4553-dc71-4cca-dda1-e3fd1a676d29"
      },
      "outputs": [
        {
          "output_type": "stream",
          "name": "stdout",
          "text": [
            "Test R2: 0.879\n"
          ]
        }
      ],
      "source": [
        "model.eval()\n",
        "with torch.no_grad():\n",
        "    y_pred = model(X_test)\n",
        "    test_r2 = r_squared(y_test, y_pred)\n",
        "    print(f'Test R2: {test_r2:.3f}')"
      ]
    },
    {
      "cell_type": "code",
      "execution_count": 18,
      "metadata": {
        "colab": {
          "base_uri": "https://localhost:8080/",
          "height": 641
        },
        "id": "y04HFhG6-91u",
        "outputId": "70d00092-4fb1-4bce-bbb7-fc40d8c0900f"
      },
      "outputs": [
        {
          "output_type": "display_data",
          "data": {
            "text/plain": [
              "<Figure size 1200x800 with 2 Axes>"
            ],
            "image/png": "[encoded data removed]"
          },
          "metadata": {}
        }
      ],
      "source": [
        "# Plot those loss and r2 on 2x2 plot\n",
        "plt.figure(figsize=(12, 8))\n",
        "plt.subplot(1, 2, 1)\n",
        "plt.plot(train_losses, label='Train Loss')\n",
        "plt.plot(val_losses, label='Validation Loss')\n",
        "plt.xlabel('Epochs')\n",
        "plt.ylabel('Loss')\n",
        "plt.legend()\n",
        "plt.title('Loss Over Epochs')\n",
        "\n",
        "plt.subplot(1, 2, 2)\n",
        "plt.plot(train_r2, label='Train R2')\n",
        "plt.plot(val_r2, label='Validation R2')\n",
        "plt.xlabel('Epochs')\n",
        "plt.ylabel('R2')\n",
        "plt.legend()\n",
        "plt.title('R2 Over Epochs')\n",
        "plt.show()\n"
      ]
    }
  ],
  "metadata": {
    "kernelspec": {
      "display_name": "toan_env",
      "language": "python",
      "name": "python3"
    },
    "language_info": {
      "codemirror_mode": {
        "name": "ipython",
        "version": 3
      },
      "file_extension": ".py",
      "mimetype": "text/x-python",
      "name": "python",
      "nbconvert_exporter": "python",
      "pygments_lexer": "ipython3",
      "version": "3.11.10"
    },
    "colab": {
      "provenance": [],
      "include_colab_link": true
    }
  },
  "nbformat": 4,
  "nbformat_minor": 0
}