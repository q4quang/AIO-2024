{
  "nbformat": 4,
  "nbformat_minor": 0,
  "metadata": {
    "colab": {
      "provenance": [],
      "authorship_tag": "ABX9TyNAqizSmLAut+t5vPXrHw54",
      "include_colab_link": true
    },
    "kernelspec": {
      "name": "python3",
      "display_name": "Python 3"
    },
    "language_info": {
      "name": "python"
    }
  },
  "cells": [
    {
      "cell_type": "markdown",
      "metadata": {
        "id": "view-in-github",
        "colab_type": "text"
      },
      "source": [
        "<a href=\"https://colab.research.google.com/github/q4quang/AIO-2024/blob/feature/approximation_functions.ipynb\" target=\"_parent\"><img src=\"https://colab.research.google.com/assets/colab-badge.svg\" alt=\"Open In Colab\"/></a>"
      ]
    },
    {
      "cell_type": "code",
      "execution_count": 4,
      "metadata": {
        "colab": {
          "base_uri": "https://localhost:8080/"
        },
        "id": "o8XdmJsfcNsn",
        "outputId": "4666d22e-66ef-41a4-e04a-9b226a47fdbc"
      },
      "outputs": [
        {
          "output_type": "stream",
          "name": "stdout",
          "text": [
            "Input x = \n",
            "3.14\n",
            "Input n = \n",
            "10\n",
            "sin(x = 3.14, n = 10) = 0.001592652393160744\n",
            "cos(x = 3.14, n = 10) = -0.9999987352210833\n",
            "sinh(x = 3.14, n = 10) = 11.530292029865986\n",
            "cosh(x = 3.14, n = 10) = 11.573574824666185\n"
          ]
        }
      ],
      "source": [
        "# sin(x), cos(x), sinh(x), cosh(x) approximation functions\n",
        "def factorial(n):\n",
        "    fac = 1\n",
        "    if n == 0 or n == 1:\n",
        "        return 1\n",
        "    for i in range(1, n+1):\n",
        "        fac = fac * i\n",
        "    return fac\n",
        "\n",
        "def approx_sin(x, n):\n",
        "    approx = 0\n",
        "    for i in range(0,n):\n",
        "        f1 = (-1)**i\n",
        "        f2 = x**(2*i+1)\n",
        "        f3 = factorial(2*i+1)\n",
        "        f = f1*f2/f3\n",
        "        approx = approx + f\n",
        "    return approx\n",
        "def approx_cos(x,n):\n",
        "    approx = 0\n",
        "    for i in range(0,n):\n",
        "        f1 = (-1)**i\n",
        "        f2 = x**(2*i)\n",
        "        f3 = factorial(2*i)\n",
        "        f = f1*f2/f3\n",
        "        approx = approx + f\n",
        "    return approx\n",
        "\n",
        "def approx_sinh(x,n):\n",
        "    approx = 0\n",
        "    for i in range(0,n):\n",
        "        f2 = x**(2*i+1)\n",
        "        f3 = factorial(2*i+1)\n",
        "        f = f2/f3\n",
        "        approx = approx + f\n",
        "    return approx\n",
        "\n",
        "def approx_cosh(x,n):\n",
        "    approx = 0\n",
        "    for i in range(0,n):\n",
        "        f2 = x**(2*i)\n",
        "        f3 = factorial(2*i)\n",
        "        f = f2/f3\n",
        "        approx = approx + f\n",
        "    return approx\n",
        "def is_int(s):\n",
        "    try:\n",
        "        int(s)\n",
        "    except ValueError:\n",
        "        return False\n",
        "    else:\n",
        "        return True\n",
        "\n",
        "print(\"Input x = \")\n",
        "x = input()\n",
        "print(\"Input n = \")\n",
        "n = input()\n",
        "if is_int(n) == True:\n",
        "    n = int(n)\n",
        "    if n > 0:\n",
        "        x = float(x)\n",
        "        print(f'sin(x = {x}, n = {n}) = {approx_sin(x,n)}')\n",
        "        print(f'cos(x = {x}, n = {n}) = {approx_cos(x,n)}')\n",
        "        print(f'sinh(x = {x}, n = {n}) = {approx_sinh(x,n)}')\n",
        "        print(f'cosh(x = {x}, n = {n}) = {approx_cosh(x,n)}')\n",
        "    else:\n",
        "        print(\"n must greater than zero\")\n",
        "else:\n",
        "    print(\"n must be an integer\")\n",
        "\n"
      ]
    }
  ]
}